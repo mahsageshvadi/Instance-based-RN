{
 "cells": [
  {
   "cell_type": "code",
   "execution_count": 37,
   "id": "e89884ba",
   "metadata": {},
   "outputs": [],
   "source": [
    "import os\n",
    "import sys\n",
    "import cv2\n",
    "import importlib\n",
    "import matplotlib.pyplot as plt\n",
    "\n",
    "ROOT_DIR = os.path.abspath(\".\")\n",
    "\n",
    "sys.path.append(ROOT_DIR)"
   ]
  },
  {
   "cell_type": "code",
   "execution_count": 38,
   "id": "eac22376",
   "metadata": {},
   "outputs": [],
   "source": [
    "import numpy as np\n",
    "import math\n",
    "import mrcnn.model as modellib\n",
    "\n",
    "import Bar3_12\n",
    "\n",
    "\n",
    "import Bar3_12.ICRNConfigure\n",
    "from mrcnn.config import Config\n",
    "\n",
    "from Bar3_12.Dataset_generator import GenerateOneBarChart"
   ]
  },
  {
   "cell_type": "code",
   "execution_count": 39,
   "id": "c7a57652",
   "metadata": {},
   "outputs": [
    {
     "name": "stdout",
     "output_type": "stream",
     "text": [
      "Resetting the folder..... testDataset\n"
     ]
    }
   ],
   "source": [
    "Bar3_12.ICRNConfigure.MakeDir('testDataset')\n",
    "Bar3_12.ICRNConfigure.ClearDir('testDataset')"
   ]
  },
  {
   "cell_type": "code",
   "execution_count": 40,
   "id": "75052fee",
   "metadata": {
    "scrolled": true
   },
   "outputs": [
    {
     "name": "stdout",
     "output_type": "stream",
     "text": [
      "\n",
      "Configurations:\n",
      "BACKBONE                       resnet101\n",
      "BACKBONE_STRIDES               [4, 8, 16, 32, 64]\n",
      "BATCH_SIZE                     8\n",
      "BBOX_STD_DEV                   [0.1 0.1 0.2 0.2]\n",
      "COMPUTE_BACKBONE_SHAPE         None\n",
      "DETECTION_MAX_INSTANCES        100\n",
      "DETECTION_MIN_CONFIDENCE       0.7\n",
      "DETECTION_NMS_THRESHOLD        0.3\n",
      "FPN_CLASSIF_FC_LAYERS_SIZE     1024\n",
      "GPU_COUNT                      1\n",
      "GRADIENT_CLIP_NORM             5.0\n",
      "IMAGES_PER_GPU                 8\n",
      "IMAGE_CHANNEL_COUNT            3\n",
      "IMAGE_MAX_DIM                  128\n",
      "IMAGE_META_SIZE                14\n",
      "IMAGE_MIN_DIM                  128\n",
      "IMAGE_MIN_SCALE                0\n",
      "IMAGE_RESIZE_MODE              square\n",
      "IMAGE_SHAPE                    [128 128   3]\n",
      "LEARNING_MOMENTUM              0.9\n",
      "LEARNING_RATE                  0.001\n",
      "LOSS_WEIGHTS                   {'rpn_class_loss': 1.0, 'rpn_bbox_loss': 1.0, 'mrcnn_class_loss': 1.0, 'mrcnn_bbox_loss': 1.0, 'mrcnn_mask_loss': 1.0}\n",
      "MASK_POOL_SIZE                 14\n",
      "MASK_SHAPE                     [28, 28]\n",
      "MAX_GT_INSTANCES               100\n",
      "MEAN_PIXEL                     [123.7 116.8 103.9]\n",
      "MINI_MASK_SHAPE                (56, 56)\n",
      "NAME                           CQA\n",
      "NUM_CLASSES                    2\n",
      "POOL_SIZE                      7\n",
      "POST_NMS_ROIS_INFERENCE        1000\n",
      "POST_NMS_ROIS_TRAINING         2000\n",
      "PRE_NMS_LIMIT                  6000\n",
      "ROI_POSITIVE_RATIO             0.33\n",
      "RPN_ANCHOR_RATIOS              [0.5, 1, 2]\n",
      "RPN_ANCHOR_SCALES              (8, 16, 32, 64, 128)\n",
      "RPN_ANCHOR_STRIDE              1\n",
      "RPN_BBOX_STD_DEV               [0.1 0.1 0.2 0.2]\n",
      "RPN_NMS_THRESHOLD              0.7\n",
      "RPN_TRAIN_ANCHORS_PER_IMAGE    256\n",
      "STEPS_PER_EPOCH                100\n",
      "TOP_DOWN_PYRAMID_SIZE          256\n",
      "TRAIN_BN                       False\n",
      "TRAIN_ROIS_PER_IMAGE           32\n",
      "USE_MINI_MASK                  False\n",
      "USE_RPN_ROIS                   True\n",
      "VALIDATION_STEPS               5\n",
      "WEIGHT_DECAY                   0.0001\n",
      "\n",
      "\n"
     ]
    }
   ],
   "source": [
    "class ShapesConfig(Config):\n",
    "    \"\"\"Configuration for training on the toy shapes dataset.\n",
    "    Derives from the base Config class and overrides values specific\n",
    "    to the toy shapes dataset.\n",
    "    \"\"\"\n",
    "    # Give the configuration a recognizable name\n",
    "    NAME = \"CQA\"\n",
    "\n",
    "    # Train on 1 GPU and 8 images per GPU. We can put multiple images on each\n",
    "    # GPU because the images are small. Batch size is 8 (GPUs * images/GPU).\n",
    "    GPU_COUNT = 1\n",
    "    IMAGES_PER_GPU = 8\n",
    "\n",
    "    # Number of classes (including background)\n",
    "    NUM_CLASSES = 1 + 1  # background + 3 shapes\n",
    "\n",
    "    # Use small images for faster training. Set the limits of the small side\n",
    "    # the large side, and that determines the image shape.\n",
    "    IMAGE_MIN_DIM = 128\n",
    "    IMAGE_MAX_DIM = 128\n",
    "\n",
    "    # Use smaller anchors because our image and objects are small\n",
    "    RPN_ANCHOR_SCALES = (8, 16, 32, 64, 128)  # anchor side in pixels\n",
    "\n",
    "    # Reduce training ROIs per image because the images are small and have\n",
    "    # few objects. Aim to allow ROI sampling to pick 33% positive ROIs.\n",
    "    TRAIN_ROIS_PER_IMAGE = 32\n",
    "\n",
    "    # Use a small epoch since the data is simple\n",
    "    STEPS_PER_EPOCH = 100\n",
    "\n",
    "    # use small validation steps since the epoch is small\n",
    "    VALIDATION_STEPS = 5\n",
    "    \n",
    "maskrcnnconfig = ShapesConfig()\n",
    "maskrcnnconfig.display()"
   ]
  },
  {
   "cell_type": "code",
   "execution_count": null,
   "id": "6cacc41f",
   "metadata": {},
   "outputs": [],
   "source": []
  },
  {
   "cell_type": "code",
   "execution_count": 41,
   "id": "cf65318f",
   "metadata": {},
   "outputs": [],
   "source": [
    "RCNNMODEL_DIR = os.path.join(ROOT_DIR, \"MaskRCNNlogs/BarChart_color/logs_bargrayscale12\")"
   ]
  },
  {
   "cell_type": "code",
   "execution_count": 42,
   "id": "57d53fab",
   "metadata": {},
   "outputs": [
    {
     "name": "stdout",
     "output_type": "stream",
     "text": [
      "Loading weights from  /home/mahsa.geshvadi001/projects/PaperCodes/2_Comparison/Instance-based-RN/Codes_PureExperiment_default_5_times/Task1_ourNewTasks/MaskRCNNlogs/BarChart_color/logs_bargrayscale12/cqa20230331T1234/mask_rcnn_cqa_0060.h5\n",
      "Re-starting from epoch 60\n"
     ]
    }
   ],
   "source": [
    "class InferenceConfig(ShapesConfig):\n",
    "    GPU_COUNT = 1\n",
    "    IMAGES_PER_GPU = 1\n",
    "\n",
    "inference_config = InferenceConfig()\n",
    "\n",
    "# Recreate the model in inference mode\n",
    "maskrcnn_model = modellib.MaskRCNN(mode=\"inference\", \n",
    "                          config=inference_config,\n",
    "                          model_dir=RCNNMODEL_DIR)\n",
    "\n",
    "maskrcnn_model_path = maskrcnn_model.find_last()\n",
    "\n",
    "# Load trained weights\n",
    "print(\"Loading weights from \", maskrcnn_model_path)\n",
    "maskrcnn_model.load_weights(maskrcnn_model_path, by_name=True)"
   ]
  },
  {
   "cell_type": "code",
   "execution_count": null,
   "id": "1954e1c9",
   "metadata": {},
   "outputs": [],
   "source": []
  },
  {
   "cell_type": "code",
   "execution_count": null,
   "id": "42c658fc",
   "metadata": {},
   "outputs": [],
   "source": []
  },
  {
   "cell_type": "code",
   "execution_count": null,
   "id": "bb545cff",
   "metadata": {},
   "outputs": [],
   "source": []
  },
  {
   "cell_type": "code",
   "execution_count": 43,
   "id": "81cab46e",
   "metadata": {},
   "outputs": [],
   "source": [
    "image_num = 1\n",
    "min_num_obj = 3\n",
    "max_num_obj = 12"
   ]
  },
  {
   "cell_type": "code",
   "execution_count": 44,
   "id": "efeed5ba",
   "metadata": {},
   "outputs": [],
   "source": [
    "def get_segmented_image_crop(x1, y1, x2, y2, image):\n",
    "    \n",
    "    segment = image[x1: y1, x2 : y2]\n",
    "    new_image = np.ones(shape=(image.shape[0], image.shape[1], image.shape[2]))\n",
    "    new_image[x1: y1, x2 : y2] = segment\n",
    "    return new_image"
   ]
  },
  {
   "cell_type": "code",
   "execution_count": 45,
   "id": "8bbb303a",
   "metadata": {},
   "outputs": [],
   "source": [
    "def get_segmented_image(segments_bbs, image):\n",
    "    \n",
    "    padding = 2\n",
    "    removed_image = image.copy()\n",
    "    for i in range(len(segments_bbs)):\n",
    "        toremovesegment = segments_bbs[i]\n",
    "    \n",
    "        x1 = toremovesegment[0]\n",
    "        y1  = toremovesegment[2]\n",
    " \n",
    "        x2 = toremovesegment[1]\n",
    "        y2 = toremovesegment[3]\n",
    "\n",
    "        y1 = 100\n",
    "        removed_image[0 : y1, x2-padding : y2+padding ] = (1, 1, 1)\n",
    "        removed_image[0 : y1, x2-padding : y2+padding ] =removed_image[0 : y1, x2-padding : y2+padding ] +  np.random.uniform(0, 0.05, (abs(y1), abs(y2-x2 + padding + padding),3))\n",
    "        _min = 0.0  # because the image is not 0/1 black-and-white image, is a RGB image.\n",
    "        _max = removed_image.max()\n",
    "        removed_image -= _min\n",
    "        removed_image[0 : y1, x2-padding : y2+padding ] /= (_max - _min)\n",
    "   \n",
    "    return removed_image"
   ]
  },
  {
   "cell_type": "code",
   "execution_count": null,
   "id": "e240ab34",
   "metadata": {},
   "outputs": [],
   "source": []
  },
  {
   "cell_type": "code",
   "execution_count": null,
   "id": "b115f2f3",
   "metadata": {},
   "outputs": [],
   "source": []
  },
  {
   "cell_type": "code",
   "execution_count": 60,
   "id": "9ce0596b",
   "metadata": {},
   "outputs": [
    {
     "name": "stdout",
     "output_type": "stream",
     "text": [
      "Processing 1 images\n",
      "image                    shape: (100, 100, 3)         min:    0.00000  max:    1.00000  float64\n",
      "molded_images            shape: (1, 128, 128, 3)      min: -123.69895  max: -102.90068  float64\n",
      "image_metas              shape: (1, 14)               min:    0.00000  max:  128.00000  float64\n",
      "anchors                  shape: (1, 4092, 4)          min:   -0.71267  max:    1.20874  float32\n"
     ]
    }
   ],
   "source": [
    "image, _, featureVector = GenerateOneBarChart(\n",
    "                num=np.random.randint(min_num_obj, max_num_obj + 1))\n",
    "        \n",
    "cv2.imwrite('testDataset/' + 'image.png', image * 255)\n",
    "\n",
    "color_img = np.zeros((image.shape[0], image.shape[1], 3))\n",
    "\n",
    "color_img[:,:,0] = image[:,:,0]\n",
    "color_img[:,:,1] = image[:,:,0]\n",
    "color_img[:,:,2] = image[:,:,0]\n",
    "\n",
    "image = color_img\n",
    "\n",
    "results = maskrcnn_model.detect([image], verbose=1)\n",
    "r = results[0]\n",
    "arr = r['rois']\n",
    "segments_bbs = arr[arr[:,1].argsort()]\n",
    "segments = []\n",
    "for t in range(len(r['rois'])):\n",
    "   # segments.append(get_segmented_image(segments_bbs[t][0],segments_bbs[t][2], \n",
    "            #                                    segments_bbs[t][1] , segments_bbs[t][3], image))\n",
    "    segments.append(get_segmented_image([x for x in segments_bbs if ((x != segments_bbs[t]).any())], image))\n",
    "           "
   ]
  },
  {
   "cell_type": "code",
   "execution_count": 61,
   "id": "87ab8794",
   "metadata": {},
   "outputs": [
    {
     "data": {
      "text/plain": [
       "<matplotlib.image.AxesImage at 0x7f367c5d0190>"
      ]
     },
     "execution_count": 61,
     "metadata": {},
     "output_type": "execute_result"
    },
    {
     "data": {
      "image/png": "[encoded data removed]",
      "text/plain": [
       "<Figure size 640x480 with 1 Axes>"
      ]
     },
     "metadata": {},
     "output_type": "display_data"
    }
   ],
   "source": [
    "plt.imshow(color_img)"
   ]
  },
  {
   "cell_type": "code",
   "execution_count": 69,
   "id": "ece82369",
   "metadata": {},
   "outputs": [
    {
     "data": {
      "text/plain": [
       "<matplotlib.image.AxesImage at 0x7f367c1fa890>"
      ]
     },
     "execution_count": 69,
     "metadata": {},
     "output_type": "execute_result"
    },
    {
     "data": {
      "image/png": "[encoded data removed]",
      "text/plain": [
       "<Figure size 640x480 with 1 Axes>"
      ]
     },
     "metadata": {},
     "output_type": "display_data"
    }
   ],
   "source": [
    "plt.imshow(segments[7])"
   ]
  },
  {
   "cell_type": "code",
   "execution_count": null,
   "id": "ce751681",
   "metadata": {},
   "outputs": [],
   "source": []
  },
  {
   "cell_type": "markdown",
   "id": "a5153dbc",
   "metadata": {},
   "source": [
    "# Image Processing"
   ]
  },
  {
   "cell_type": "code",
   "execution_count": 214,
   "id": "d8ba309d",
   "metadata": {},
   "outputs": [],
   "source": [
    "_image  = image * 255"
   ]
  },
  {
   "cell_type": "code",
   "execution_count": 215,
   "id": "cd0ea9de",
   "metadata": {},
   "outputs": [],
   "source": [
    "ret, thresholed_image = cv2.threshold(_image,25,255,cv2.THRESH_BINARY) # apply threshold to blur image\n",
    "\n",
    "thresholed_image = thresholed_image.astype(np.uint8)"
   ]
  },
  {
   "cell_type": "code",
   "execution_count": null,
   "id": "6e49ba88",
   "metadata": {},
   "outputs": [],
   "source": []
  },
  {
   "cell_type": "code",
   "execution_count": 216,
   "id": "410222e1",
   "metadata": {},
   "outputs": [],
   "source": [
    "contours, hierarchy = cv2.findContours(thresholed_image, cv2.RETR_EXTERNAL, cv2.CHAIN_APPROX_SIMPLE) # find countour\n"
   ]
  },
  {
   "cell_type": "code",
   "execution_count": 217,
   "id": "10e75e60",
   "metadata": {},
   "outputs": [
    {
     "name": "stderr",
     "output_type": "stream",
     "text": [
      "/home/mahsa.geshvadi001/.local/lib/python3.7/site-packages/ipykernel_launcher.py:1: DeprecationWarning: elementwise comparison failed; this will raise an error in the future.\n",
      "  \"\"\"Entry point for launching an IPython kernel.\n"
     ]
    }
   ],
   "source": [
    "obj_index = contours.index(max(contours, key=len)) # find index of largest object\n",
    "contour_img = cv2.drawContours(_image, contours, obj_index, (0,255,0), 3) # draw coutour on original image\n"
   ]
  },
  {
   "cell_type": "code",
   "execution_count": 218,
   "id": "f46c2b86",
   "metadata": {},
   "outputs": [],
   "source": [
    "for c in contours:\n",
    "    rect = cv2.boundingRect(c)"
   ]
  },
  {
   "cell_type": "code",
   "execution_count": 219,
   "id": "a0ce7bc0",
   "metadata": {},
   "outputs": [
    {
     "data": {
      "text/plain": [
       "<matplotlib.image.AxesImage at 0x7f66e3f4bfd0>"
      ]
     },
     "execution_count": 219,
     "metadata": {},
     "output_type": "execute_result"
    },
    {
     "data": {
      "image/png": "[encoded data removed]",
      "text/plain": [
       "<Figure size 640x480 with 1 Axes>"
      ]
     },
     "metadata": {},
     "output_type": "display_data"
    }
   ],
   "source": [
    "plt.imshow(contour_img, cmap = 'gray')"
   ]
  },
  {
   "cell_type": "code",
   "execution_count": 220,
   "id": "831d7db7",
   "metadata": {},
   "outputs": [],
   "source": [
    "new_image = np.ones(shape=(_image.shape[0], _image.shape[1], _image.shape[2]))\n"
   ]
  },
  {
   "cell_type": "code",
   "execution_count": 221,
   "id": "c81886f9",
   "metadata": {},
   "outputs": [],
   "source": [
    "c = contours[2]"
   ]
  },
  {
   "cell_type": "code",
   "execution_count": 222,
   "id": "7296ae5f",
   "metadata": {},
   "outputs": [],
   "source": [
    "x,y,w,h = cv2.boundingRect(c)\n",
    "\n",
    "# draw contour\n",
    "img = cv2.drawContours(_image,[c],0,(0,255,255),2)\n",
    "\n",
    "# draw the bounding rectangle\n",
    "img = cv2.rectangle(new_image,(x,y),(x+w,y+h),(0,255,0),2)"
   ]
  },
  {
   "cell_type": "code",
   "execution_count": null,
   "id": "78309c38",
   "metadata": {},
   "outputs": [],
   "source": []
  },
  {
   "cell_type": "code",
   "execution_count": null,
   "id": "4feb895e",
   "metadata": {},
   "outputs": [],
   "source": []
  },
  {
   "cell_type": "code",
   "execution_count": null,
   "id": "0fa697af",
   "metadata": {},
   "outputs": [],
   "source": []
  },
  {
   "cell_type": "code",
   "execution_count": null,
   "id": "6ff04e71",
   "metadata": {},
   "outputs": [],
   "source": []
  },
  {
   "cell_type": "code",
   "execution_count": 223,
   "id": "c47ab662",
   "metadata": {},
   "outputs": [],
   "source": [
    "def get_segmented_image_processing(c, _image):\n",
    "    \n",
    "    new_image = np.ones(shape=(_image.shape[0], _image.shape[1], _image.shape[2]))\n",
    "    x,y,w,h = cv2.boundingRect(c)\n",
    "\n",
    "    img = cv2.drawContours(_image,[c],0,(0,255,255),2)\n",
    "\n",
    "    img = cv2.rectangle(new_image,(x,y),(x+w,y+h),(0,255,0),2)\n",
    "    \n",
    "    return img"
   ]
  },
  {
   "cell_type": "code",
   "execution_count": 224,
   "id": "57cf4988",
   "metadata": {},
   "outputs": [],
   "source": [
    "segments_image_processing = []\n",
    "\n",
    "for c in contours[:-1]:\n",
    "\n",
    "    segments_image_processing.append(get_segmented_image_processing(c,_image))\n",
    "    \n",
    "#segments_image_processing = segments_image_processing.reverse()           "
   ]
  },
  {
   "cell_type": "code",
   "execution_count": 228,
   "id": "8abb7397",
   "metadata": {},
   "outputs": [
    {
     "data": {
      "text/plain": [
       "<matplotlib.image.AxesImage at 0x7f66e3d9b850>"
      ]
     },
     "execution_count": 228,
     "metadata": {},
     "output_type": "execute_result"
    },
    {
     "data": {
      "image/png": "[encoded data removed]",
      "text/plain": [
       "<Figure size 640x480 with 1 Axes>"
      ]
     },
     "metadata": {},
     "output_type": "display_data"
    }
   ],
   "source": [
    "plt.imshow(segments_image_processing[3])"
   ]
  },
  {
   "cell_type": "code",
   "execution_count": null,
   "id": "3405e690",
   "metadata": {},
   "outputs": [],
   "source": []
  },
  {
   "cell_type": "code",
   "execution_count": null,
   "id": "687937a7",
   "metadata": {},
   "outputs": [],
   "source": []
  }
 ],
 "metadata": {
  "kernelspec": {
   "display_name": "Python 3 (ipykernel)",
   "language": "python",
   "name": "python3"
  },
  "language_info": {
   "codemirror_mode": {
    "name": "ipython",
    "version": 3
   },
   "file_extension": ".py",
   "mimetype": "text/x-python",
   "name": "python",
   "nbconvert_exporter": "python",
   "pygments_lexer": "ipython3",
   "version": "3.7.16"
  }
 },
 "nbformat": 4,
 "nbformat_minor": 5
}
