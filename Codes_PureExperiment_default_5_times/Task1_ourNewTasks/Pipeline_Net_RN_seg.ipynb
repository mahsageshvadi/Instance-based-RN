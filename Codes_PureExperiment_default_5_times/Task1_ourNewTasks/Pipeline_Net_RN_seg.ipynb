{
 "cells": [
  {
   "cell_type": "code",
   "execution_count": 36,
   "id": "e89884ba",
   "metadata": {},
   "outputs": [],
   "source": [
    "import os\n",
    "import sys\n",
    "import cv2\n",
    "import importlib\n",
    "\n",
    "ROOT_DIR = os.path.abspath(\".\")\n",
    "\n",
    "sys.path.append(ROOT_DIR)"
   ]
  },
  {
   "cell_type": "code",
   "execution_count": 37,
   "id": "35785efa",
   "metadata": {},
   "outputs": [],
   "source": [
    "import numpy as np\n",
    "import math\n",
    "import mrcnn.model as modellib\n",
    "\n",
    "import BarColor_randomcolor\n",
    "\n",
    "\n",
    "import BarColor_randomcolor.ICRNConfigure\n",
    "from mrcnn.config import Config\n",
    "\n"
   ]
  },
  {
   "cell_type": "code",
   "execution_count": null,
   "id": "c92bb447",
   "metadata": {},
   "outputs": [],
   "source": []
  },
  {
   "cell_type": "code",
   "execution_count": 38,
   "id": "eac22376",
   "metadata": {},
   "outputs": [],
   "source": [
    "from BarColor_randomcolor.Dataset_generator import GenerateOneBarChart"
   ]
  },
  {
   "cell_type": "code",
   "execution_count": 39,
   "id": "b2752efe",
   "metadata": {},
   "outputs": [],
   "source": [
    "ICRN_config = BarColor_randomcolor.ICRNConfigure.Config()\n",
    "from BarColor_randomcolor.utils.non_local import non_local_block\n"
   ]
  },
  {
   "cell_type": "code",
   "execution_count": 40,
   "id": "c7a57652",
   "metadata": {},
   "outputs": [
    {
     "name": "stdout",
     "output_type": "stream",
     "text": [
      "Resetting the folder..... testDataset\n"
     ]
    }
   ],
   "source": [
    "BarColor_randomcolor.ICRNConfigure.MakeDir('testDataset')\n",
    "BarColor_randomcolor.ICRNConfigure.ClearDir('testDataset')"
   ]
  },
  {
   "cell_type": "code",
   "execution_count": 41,
   "id": "75052fee",
   "metadata": {},
   "outputs": [
    {
     "name": "stdout",
     "output_type": "stream",
     "text": [
      "\n",
      "Configurations:\n",
      "BACKBONE                       resnet101\n",
      "BACKBONE_STRIDES               [4, 8, 16, 32, 64]\n",
      "BATCH_SIZE                     8\n",
      "BBOX_STD_DEV                   [0.1 0.1 0.2 0.2]\n",
      "COMPUTE_BACKBONE_SHAPE         None\n",
      "DETECTION_MAX_INSTANCES        100\n",
      "DETECTION_MIN_CONFIDENCE       0.7\n",
      "DETECTION_NMS_THRESHOLD        0.3\n",
      "FPN_CLASSIF_FC_LAYERS_SIZE     1024\n",
      "GPU_COUNT                      1\n",
      "GRADIENT_CLIP_NORM             5.0\n",
      "IMAGES_PER_GPU                 8\n",
      "IMAGE_CHANNEL_COUNT            3\n",
      "IMAGE_MAX_DIM                  128\n",
      "IMAGE_META_SIZE                14\n",
      "IMAGE_MIN_DIM                  128\n",
      "IMAGE_MIN_SCALE                0\n",
      "IMAGE_RESIZE_MODE              square\n",
      "IMAGE_SHAPE                    [128 128   3]\n",
      "LEARNING_MOMENTUM              0.9\n",
      "LEARNING_RATE                  0.001\n",
      "LOSS_WEIGHTS                   {'rpn_class_loss': 1.0, 'rpn_bbox_loss': 1.0, 'mrcnn_class_loss': 1.0, 'mrcnn_bbox_loss': 1.0, 'mrcnn_mask_loss': 1.0}\n",
      "MASK_POOL_SIZE                 14\n",
      "MASK_SHAPE                     [28, 28]\n",
      "MAX_GT_INSTANCES               100\n",
      "MEAN_PIXEL                     [123.7 116.8 103.9]\n",
      "MINI_MASK_SHAPE                (56, 56)\n",
      "NAME                           CQA\n",
      "NUM_CLASSES                    2\n",
      "POOL_SIZE                      7\n",
      "POST_NMS_ROIS_INFERENCE        1000\n",
      "POST_NMS_ROIS_TRAINING         2000\n",
      "PRE_NMS_LIMIT                  6000\n",
      "ROI_POSITIVE_RATIO             0.33\n",
      "RPN_ANCHOR_RATIOS              [0.5, 1, 2]\n",
      "RPN_ANCHOR_SCALES              (8, 16, 32, 64, 128)\n",
      "RPN_ANCHOR_STRIDE              1\n",
      "RPN_BBOX_STD_DEV               [0.1 0.1 0.2 0.2]\n",
      "RPN_NMS_THRESHOLD              0.7\n",
      "RPN_TRAIN_ANCHORS_PER_IMAGE    256\n",
      "STEPS_PER_EPOCH                100\n",
      "TOP_DOWN_PYRAMID_SIZE          256\n",
      "TRAIN_BN                       False\n",
      "TRAIN_ROIS_PER_IMAGE           32\n",
      "USE_MINI_MASK                  False\n",
      "USE_RPN_ROIS                   True\n",
      "VALIDATION_STEPS               5\n",
      "WEIGHT_DECAY                   0.0001\n",
      "\n",
      "\n"
     ]
    }
   ],
   "source": [
    "class ShapesConfig(Config):\n",
    "    \"\"\"Configuration for training on the toy shapes dataset.\n",
    "    Derives from the base Config class and overrides values specific\n",
    "    to the toy shapes dataset.\n",
    "    \"\"\"\n",
    "    # Give the configuration a recognizable name\n",
    "    NAME = \"CQA\"\n",
    "\n",
    "    # Train on 1 GPU and 8 images per GPU. We can put multiple images on each\n",
    "    # GPU because the images are small. Batch size is 8 (GPUs * images/GPU).\n",
    "    GPU_COUNT = 1\n",
    "    IMAGES_PER_GPU = 8\n",
    "\n",
    "    # Number of classes (including background)\n",
    "    NUM_CLASSES = 1 + 1  # background + 3 shapes\n",
    "\n",
    "    # Use small images for faster training. Set the limits of the small side\n",
    "    # the large side, and that determines the image shape.\n",
    "    IMAGE_MIN_DIM = 128\n",
    "    IMAGE_MAX_DIM = 128\n",
    "\n",
    "    # Use smaller anchors because our image and objects are small\n",
    "    RPN_ANCHOR_SCALES = (8, 16, 32, 64, 128)  # anchor side in pixels\n",
    "\n",
    "    # Reduce training ROIs per image because the images are small and have\n",
    "    # few objects. Aim to allow ROI sampling to pick 33% positive ROIs.\n",
    "    TRAIN_ROIS_PER_IMAGE = 32\n",
    "\n",
    "    # Use a small epoch since the data is simple\n",
    "    STEPS_PER_EPOCH = 100\n",
    "\n",
    "    # use small validation steps since the epoch is small\n",
    "    VALIDATION_STEPS = 5\n",
    "    \n",
    "maskrcnnconfig = ShapesConfig()\n",
    "maskrcnnconfig.display()"
   ]
  },
  {
   "cell_type": "code",
   "execution_count": null,
   "id": "6cacc41f",
   "metadata": {},
   "outputs": [],
   "source": []
  },
  {
   "cell_type": "code",
   "execution_count": 42,
   "id": "cf65318f",
   "metadata": {},
   "outputs": [],
   "source": [
    "RCNNMODEL_DIR = os.path.join(ROOT_DIR, \"MaskRCNNlogs/BarChart_color\")"
   ]
  },
  {
   "cell_type": "code",
   "execution_count": 43,
   "id": "57d53fab",
   "metadata": {},
   "outputs": [
    {
     "name": "stdout",
     "output_type": "stream",
     "text": [
      "Loading weights from  /home/mahsa.geshvadi001/projects/PaperCodes/2_Comparison/Instance-based-RN/Codes_PureExperiment_default_5_times/Task1_ourNewTasks/MaskRCNNlogs/BarChart_color/cqa20230313T1326/mask_rcnn_cqa_0060.h5\n",
      "Re-starting from epoch 60\n"
     ]
    }
   ],
   "source": [
    "class InferenceConfig(ShapesConfig):\n",
    "    GPU_COUNT = 1\n",
    "    IMAGES_PER_GPU = 1\n",
    "\n",
    "inference_config = InferenceConfig()\n",
    "\n",
    "# Recreate the model in inference mode\n",
    "maskrcnn_model = modellib.MaskRCNN(mode=\"inference\", \n",
    "                          config=inference_config,\n",
    "                          model_dir=RCNNMODEL_DIR)\n",
    "\n",
    "maskrcnn_model_path = maskrcnn_model.find_last()\n",
    "\n",
    "# Load trained weights\n",
    "print(\"Loading weights from \", maskrcnn_model_path)\n",
    "maskrcnn_model.load_weights(maskrcnn_model_path, by_name=True)"
   ]
  },
  {
   "cell_type": "code",
   "execution_count": null,
   "id": "1954e1c9",
   "metadata": {},
   "outputs": [],
   "source": []
  },
  {
   "cell_type": "code",
   "execution_count": 44,
   "id": "42c658fc",
   "metadata": {},
   "outputs": [],
   "source": [
    "image_num = 1\n",
    "min_num_obj = 3\n",
    "max_num_obj = 6"
   ]
  },
  {
   "cell_type": "code",
   "execution_count": 71,
   "id": "b0168c2a",
   "metadata": {},
   "outputs": [],
   "source": [
    "def get_segmented_image(segments_bbs, image):\n",
    "    \n",
    "    removed_image = image.copy()\n",
    "    for i in range(len(segments_bbs)):\n",
    "        toremovesegment = segments_bbs[i]\n",
    "    \n",
    "        x1 = toremovesegment[0]\n",
    "        y1  = toremovesegment[2]\n",
    "        x2 = toremovesegment[1]\n",
    "        y2 = toremovesegment[3]\n",
    "\n",
    "        removed_image[x1 : y1, x2 : y2] = (1, 1, 1)\n",
    "        removed_image[x1 : y1, x2 : y2] =removed_image[x1 : y1, x2 : y2] +  np.random.uniform(0, 0.05, (abs(y1-x1), abs(y2-x2),3))\n",
    "        _min = 0.0  # because the image is not 0/1 black-and-white image, is a RGB image.\n",
    "        _max = removed_image.max()\n",
    "        removed_image -= _min\n",
    "        removed_image[x1 : y1, x2 : y2] /= (_max - _min)\n",
    "   \n",
    "    return removed_image"
   ]
  },
  {
   "cell_type": "code",
   "execution_count": 72,
   "id": "38fe03d6",
   "metadata": {},
   "outputs": [],
   "source": [
    "def saveImage(image, featureVector, i):\n",
    "\n",
    "    file_gt = open('testDataset/ground_truth.txt', 'w')\n",
    "    file_pair_gt = open('testDataset/pair_ground_truth.txt','w')\n",
    "    cv2.imwrite('testDataset/' + ICRN_config.chartName.format(i), image * 255)\n",
    "    \n",
    "    for t in range(len(featureVector)):\n",
    "        file_gt.write(\"%.6f\\t\" % (featureVector[t]))\n",
    "                \n",
    "    for t in range(ICRN_config.max_obj_num - len(featureVector)):\n",
    "        file_gt.write(\"0.00\\t\")\n",
    "        file_gt.write(\"\\n\")\n",
    "\n",
    "    for t in range(len(featureVector) - 1):\n",
    "            file_pair_gt.write(\"{} {} {}\\n\".format(ICRN_config.subChartName.format(i, t),\n",
    "                                                       ICRN_config.subChartName.format(i, t + 1),\n",
    "                                                       featureVector[t+1] / featureVector[t]))\n"
   ]
  },
  {
   "cell_type": "code",
   "execution_count": 106,
   "id": "243fd581",
   "metadata": {},
   "outputs": [],
   "source": [
    "_images = np.ones((ICRN_config.max_obj_num, image_num, ICRN_config.image_height, ICRN_config.image_width, 3), dtype='float32')\n",
    "_labels = []\n",
    "number_of_bars = []"
   ]
  },
  {
   "cell_type": "code",
   "execution_count": 107,
   "id": "161aaae5",
   "metadata": {},
   "outputs": [
    {
     "name": "stdout",
     "output_type": "stream",
     "text": [
      "Processing 1 images\n",
      "image                    shape: (100, 100, 3)         min:    0.04317  max:    1.00000  float64\n",
      "molded_images            shape: (1, 128, 128, 3)      min: -123.65312  max: -102.90102  float64\n",
      "image_metas              shape: (1, 14)               min:    0.00000  max:  128.00000  float64\n",
      "anchors                  shape: (1, 4092, 4)          min:   -0.71267  max:    1.20874  float32\n"
     ]
    }
   ],
   "source": [
    "for i in range(image_num):\n",
    "\n",
    "        image, _, featureVector = GenerateOneBarChart(\n",
    "                num=np.random.randint(min_num_obj, max_num_obj + 1))\n",
    "        \n",
    "        saveImage(image, featureVector, i)\n",
    "        featureVector = np.array(featureVector)\n",
    "\n",
    "        results = maskrcnn_model.detect([image], verbose=1)\n",
    "        r = results[0]\n",
    "        arr = r['rois']\n",
    "        segments_bbs = arr[arr[:,1].argsort()]\n",
    "\n",
    "        segments = []\n",
    "        for t in range(len(r['rois'])):\n",
    "            segments.append(get_segmented_image([x for x in segments_bbs if ((x != segments_bbs[t]).any())], image))\n",
    "\n",
    "            \n",
    "        subImages = [np.ones(shape=(ICRN_config.image_width,ICRN_config.image_width,3)) for i in range(ICRN_config.max_obj_num)]\n",
    "        for count in range(len(r['rois'])):\n",
    "\n",
    "            if count< 6:\n",
    "                subImages[count] = segments[count]\n",
    "            \n",
    "        for t in range(ICRN_config.max_obj_num):\n",
    "            _images[t][i] = subImages[t]\n",
    "\n",
    "        number_of_bars.append(len(r['rois']))\n",
    "        \n",
    "        label = np.zeros(ICRN_config.max_obj_num, dtype='float32')\n",
    "        label[:len(featureVector)] = featureVector\n",
    "        _labels.append(label)\n",
    "        \n",
    "_labels = np.array(_labels, dtype='float32')"
   ]
  },
  {
   "cell_type": "code",
   "execution_count": 108,
   "id": "0de287ea",
   "metadata": {},
   "outputs": [],
   "source": [
    "x_test = _images\n",
    "x_test -= .5\n"
   ]
  },
  {
   "cell_type": "code",
   "execution_count": 109,
   "id": "447e3921",
   "metadata": {},
   "outputs": [],
   "source": [
    "input_test = [x_test[i] for i in range(ICRN_config.max_obj_num)]\n",
    "#x_test.append(np.ones(image_num))\n",
    "#input_test = [x_test[i] for i in range(ICRN_config.max_obj_num)]\n",
    "#input_test.append(np.ones(input_test[0].shape[0]))"
   ]
  },
  {
   "cell_type": "markdown",
   "id": "cf92d21b",
   "metadata": {},
   "source": [
    "# Predict with RN Seg"
   ]
  },
  {
   "cell_type": "code",
   "execution_count": 77,
   "id": "eae36870",
   "metadata": {},
   "outputs": [],
   "source": [
    "import keras\n",
    "import keras.backend as K\n",
    "from keras.models import Sequential, Model\n",
    "from keras.layers import Dense, Dropout, Flatten,Input\n",
    "from keras.layers import Conv2D, MaxPooling2D\n",
    "import tensorflow as tf\n",
    "from keras.optimizers import SGD, Adam\n",
    "import sklearn\n",
    "from sklearn.metrics import mean_squared_error"
   ]
  },
  {
   "cell_type": "code",
   "execution_count": 78,
   "id": "aa240220",
   "metadata": {},
   "outputs": [],
   "source": [
    "\n",
    "def Build_RN_Network():\n",
    "    # input layers.\n",
    "    input_layers = []\n",
    "    for i in range(ICRN_config.max_obj_num):\n",
    "        input = Input(shape=(ICRN_config.image_height, ICRN_config.image_width, 3), name=\"input_{}\".format(i))\n",
    "        input_layers.append(input)\n",
    "\n",
    "    # First extract individual features.\n",
    "    individual_features = []\n",
    "    for i in range(ICRN_config.max_obj_num):\n",
    "        x = Conv2D(24,(5,5),strides=(3,3),activation='relu',padding='same')(input_layers[i])\n",
    "        x = Conv2D(24,(5,5),strides=(3,3),activation='relu',padding='same')(x)\n",
    "        x = Conv2D(24,(5,5),strides=(2,2),activation='relu',padding='same')(x)\n",
    "        x = Conv2D(24,(5,5),strides=(2,2),activation='relu',padding='same')(x)\n",
    "\n",
    "        x = Flatten()(x)\n",
    "\n",
    "        x = Dense(24, activation='relu')(x)\n",
    "\n",
    "        individual_features.append(x)\n",
    "\n",
    "    # g_theta\n",
    "    g = []\n",
    "    for i in range(len(individual_features)):\n",
    "        for j in range(len(individual_features)):\n",
    "            x = keras.layers.concatenate([individual_features[i], individual_features[j]])\n",
    "            x = Dense(256, activation=\"relu\")(x)\n",
    "            x = Dense(256, activation=\"relu\")(x)\n",
    "            x = Dense(256, activation=\"relu\")(x)\n",
    "            x = Dense(256, activation=\"relu\")(x)\n",
    "            g.append(x)\n",
    "    f = keras.layers.average(g)\n",
    "\n",
    "    # f_theta\n",
    "    z = Dense(256, activation=\"relu\")(f)\n",
    "    z = Dense(256, activation=\"relu\")(z)\n",
    "    z = Dropout(0.5)(z)\n",
    "    z = Dense(ICRN_config.max_obj_num, activation=\"linear\")(z)\n",
    "\n",
    "    return Model(inputs=input_layers, outputs=z)"
   ]
  },
  {
   "cell_type": "code",
   "execution_count": 100,
   "id": "644e8f4a",
   "metadata": {},
   "outputs": [],
   "source": [
    "m_optimizer = Adam(0.0001)\n",
    "\n",
    "model = Build_RN_Network()\n",
    "model.compile(loss='mse', optimizer=m_optimizer)"
   ]
  },
  {
   "cell_type": "code",
   "execution_count": 101,
   "id": "fb629a60",
   "metadata": {},
   "outputs": [],
   "source": [
    "ICRNModelPath = os.path.join(ROOT_DIR, \"results/IRN/BarColor\")"
   ]
  },
  {
   "cell_type": "code",
   "execution_count": 102,
   "id": "cc7a50ad",
   "metadata": {},
   "outputs": [],
   "source": [
    "model.load_weights(ICRNModelPath + '/Barchart_color.h5')"
   ]
  },
  {
   "cell_type": "code",
   "execution_count": 110,
   "id": "c900c4c5",
   "metadata": {},
   "outputs": [],
   "source": [
    "predict_Y = model.predict(x=input_test, batch_size=1)\n"
   ]
  },
  {
   "cell_type": "code",
   "execution_count": 111,
   "id": "d67280ae",
   "metadata": {},
   "outputs": [],
   "source": [
    "for n in range(image_num):\n",
    "\n",
    "        predict_Y[n][number_of_bars[n]: 6] = 0"
   ]
  },
  {
   "cell_type": "code",
   "execution_count": 112,
   "id": "12752fa4",
   "metadata": {},
   "outputs": [],
   "source": [
    "y = _labels\n",
    "\n",
    "MLAE = np.log2(sklearn.metrics.mean_absolute_error( predict_Y * 100, y * 100) + .125)"
   ]
  },
  {
   "cell_type": "code",
   "execution_count": 113,
   "id": "79eaeef4",
   "metadata": {},
   "outputs": [
    {
     "data": {
      "text/plain": [
       "0.18261258021868437"
      ]
     },
     "execution_count": 113,
     "metadata": {},
     "output_type": "execute_result"
    }
   ],
   "source": [
    "MLAE"
   ]
  },
  {
   "cell_type": "code",
   "execution_count": null,
   "id": "7881d5ac",
   "metadata": {},
   "outputs": [],
   "source": []
  },
  {
   "cell_type": "code",
   "execution_count": null,
   "id": "3b4c0590",
   "metadata": {},
   "outputs": [],
   "source": []
  }
 ],
 "metadata": {
  "kernelspec": {
   "display_name": "Python 3 (ipykernel)",
   "language": "python",
   "name": "python3"
  },
  "language_info": {
   "codemirror_mode": {
    "name": "ipython",
    "version": 3
   },
   "file_extension": ".py",
   "mimetype": "text/x-python",
   "name": "python",
   "nbconvert_exporter": "python",
   "pygments_lexer": "ipython3",
   "version": "3.7.16"
  }
 },
 "nbformat": 4,
 "nbformat_minor": 5
}
