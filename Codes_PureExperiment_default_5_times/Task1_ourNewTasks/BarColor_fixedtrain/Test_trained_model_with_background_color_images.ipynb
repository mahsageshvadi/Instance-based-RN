{
 "cells": [
  {
   "cell_type": "code",
   "execution_count": 3,
   "id": "7c0f26e1",
   "metadata": {},
   "outputs": [
    {
     "name": "stderr",
     "output_type": "stream",
     "text": [
      "Using TensorFlow backend.\n"
     ]
    },
    {
     "name": "stdout",
     "output_type": "stream",
     "text": [
      "WARNING:tensorflow:From /home/mahsa.geshvadi001/miniconda3/envs/ZHIHAO/lib/python3.6/site-packages/tensorflow_core/python/ops/resource_variable_ops.py:1630: calling BaseResourceVariable.__init__ (from tensorflow.python.ops.resource_variable_ops) with constraint is deprecated and will be removed in a future version.\n",
      "Instructions for updating:\n",
      "If using Keras pass *_constraint arguments to layers.\n"
     ]
    }
   ],
   "source": [
    "from Configure import Config, MakeDir\n",
    "import numpy as np\n",
    "import keras\n",
    "import keras.backend as K\n",
    "import numpy as np\n",
    "from keras.models import Sequential, Model\n",
    "from keras.layers import Dense, Dropout, Flatten,Input\n",
    "from keras.layers import Conv2D, MaxPooling2D\n",
    "import tensorflow as tf\n",
    "from keras.optimizers import SGD, Adam\n",
    "from utils.non_local import non_local_block\n",
    "from Dataset_generator_BackgroundColor import GenerateDatasetIRNm\n",
    "import sklearn\n",
    "from sklearn.metrics import mean_squared_error\n",
    "\n",
    "lr = 0.0001\n",
    "m_optimizer = Adam(lr)\n",
    "\n",
    "config = Config()\n",
    "\n",
    "# create save folder.\n",
    "MakeDir(\"./results/\")\n",
    "\n"
   ]
  },
  {
   "cell_type": "code",
   "execution_count": 4,
   "id": "d20cb85c",
   "metadata": {},
   "outputs": [],
   "source": [
    "def SavePredictedResult(dir_results, x, y, flag = 'train'):\n",
    "    dim = y.shape[1]\n",
    "\n",
    "    print(y.shape[0])\n",
    "    input_test = [x[i] for i in range(config.max_obj_num)]\n",
    "    input_test.append(np.ones(x[0].shape[0]))\n",
    "    predict_Y = model.predict(x=input_test, batch_size=1)\n",
    "    predictFile = open(dir_results + flag + \"_predicted_results.txt\",'w')\n",
    "\n",
    "   # for i in range(y.shape[0]):\n",
    "   #     for t in range(dim):  # save the ground_truth\n",
    "    #        predictFile.write(str(y[i,t]) + '\\t')\n",
    "   #     predictFile.write('\\n')\n",
    "       # for t in range(dim):  # save the predicted results.\n",
    "           # predictFile.write(str(predict_Y[i, t]) + '\\t')\n",
    "    #    predictFile.write('\\n')\n",
    "   # predictFile.close()\n",
    "    \n",
    "    \n",
    "    MLAE = np.log2(sklearn.metrics.mean_absolute_error( predict_Y * 100, y * 100) + .125)\n",
    "\n",
    "    return MLAE, y, predict_Y"
   ]
  },
  {
   "cell_type": "code",
   "execution_count": 5,
   "id": "d757ae89",
   "metadata": {},
   "outputs": [],
   "source": [
    "def Level1_Module():\n",
    "    input = Input(shape=(config.image_height, config.image_width, 3))\n",
    "    x = Conv2D(32, (3, 3), activation='relu', padding='same')(input)\n",
    "    x = Conv2D(32, (3, 3), activation='relu', padding='same')(x)\n",
    "    x = MaxPooling2D(pool_size=(2, 2), strides=(2, 2))(x)\n",
    "    x = Conv2D(64, (3, 3), activation='relu', padding='same')(x)\n",
    "    x = Conv2D(64, (3, 3), activation='relu', padding='same')(x)\n",
    "    x = MaxPooling2D(pool_size=(2, 2), strides=(2, 2))(x)\n",
    "    x = non_local_block(x)   # non local block\n",
    "    x = Conv2D(64, (3, 3), activation='relu', padding='same')(x)\n",
    "    x = Conv2D(64, (3, 3), activation='relu', padding='same')(x)\n",
    "    x = Conv2D(64, (3, 3), activation='relu', padding='same')(x)\n",
    "    x = MaxPooling2D(pool_size=(2, 2), strides=(2, 2))(x)\n",
    "    x = non_local_block(x)   # non local block\n",
    "    return Model(inputs=input, outputs=x)\n",
    "\n",
    "# Level2 module is to compute the ratio of a pair.\n",
    "# Level2 has one NON-LOCAL block.\n",
    "def Level2_Module(w,h,c):\n",
    "    print(\"Level2:\", w,h,c)\n",
    "\n",
    "    inputA = Input(shape=(w, h, c))\n",
    "    inputB = Input(shape=(w, h, c))\n",
    "\n",
    "    combined = keras.layers.concatenate([inputA, inputB])   # concatenate them.\n",
    "    z = Conv2D(64, (3, 3), activation='relu',padding='same')(combined)\n",
    "    z = Conv2D(64, (3, 3), activation='relu', padding='same')(z)\n",
    "    z = non_local_block(z)   # non local block\n",
    "    #\n",
    "    z = Flatten()(z)\n",
    "    z = Dense(256, activation=\"relu\")(z)\n",
    "    z = Dropout(0.5)(z)\n",
    "    z = Dense(1, activation=\"linear\")(z)  # output the ratio of this pair.\n",
    "\n",
    "    return Model(inputs=[inputA, inputB], outputs=z)\n",
    "\n",
    "\n",
    "\n",
    "# IRN_m is final network to estimate the ratio vectors from multiple input instances.\n",
    "def Build_IRN_m_Network():\n",
    "    # input layers.\n",
    "    input_layers = []\n",
    "    # the first 'obj_num' inputs are corresponding to the input sub-charts.\n",
    "    for i in range(config.max_obj_num):\n",
    "        input = Input(shape=(config.image_height, config.image_width, 3), name=\"input_{}\".format(i))\n",
    "        input_layers.append(input)\n",
    "\n",
    "    # The last input layer is used for representing R1=(o1/o1)=1.0 which is just a constant.\n",
    "    # Here, I would use an extra input layer which is 1-dim and always equal to 1.0 rather than directly using a contant.\n",
    "    # It makes same effect and can avoid some strange compile errors. (I only use TensorFlow before, not way familiar to Keras.)\n",
    "    R1_one_input = Input(shape=(1,),name=\"input_constant_scalar1\",dtype='float32')   # always equal to 1.0.\n",
    "    input_layers.append(R1_one_input)\n",
    "\n",
    "    # First extract individual features.\n",
    "    individual_features = []\n",
    "    level1 = Level1_Module()  # build a level1 module\n",
    "    for i in range(config.max_obj_num):\n",
    "        x = level1(input_layers[i])\n",
    "        individual_features.append(x)\n",
    "\n",
    "    # Use a Level2 module to predict pairwise ratios.\n",
    "    level2 = Level2_Module(w=int(individual_features[0].shape[1]),\n",
    "                           h=int(individual_features[0].shape[2]),\n",
    "                           c=int(individual_features[0].shape[3]))\n",
    "\n",
    "    ratio_p_layers = [R1_one_input]   # pairwise ratio vector. put in' R1=(o1/o1)=1.0 '.\n",
    "    for i in range(config.max_obj_num-1): # compute the ratio of each neighbor pair.\n",
    "        x = level2(inputs = [individual_features[i], individual_features[i+1]])\n",
    "        ratio_p_layers.append(x)\n",
    "\n",
    "    print(\"ratio_p_layers\", len(ratio_p_layers), ratio_p_layers[-1].shape)\n",
    "\n",
    "    # Compute the ratios relative to the first object by using MULTIPLY() operation.\n",
    "    ratio_layers = [R1_one_input]  # put in R1=1.0.\n",
    "    i = 1\n",
    "    while i<len(ratio_p_layers):\n",
    "        x = keras.layers.Multiply()(ratio_p_layers[:i+1])   # R1*R2*...Ri\n",
    "        i+=1\n",
    "        ratio_layers.append(x)\n",
    "\n",
    "    # divide the maxinum of 'ratio_layers' to get the final results.\n",
    "    max = keras.layers.maximum(ratio_layers)\n",
    "    z = keras.layers.concatenate(ratio_layers)\n",
    "    z = keras.layers.Lambda(lambda x: x[0]/x[1])([z, max])\n",
    "\n",
    "    print(\"output layer: \", z.shape)\n",
    "\n",
    "    return Model(inputs=input_layers, outputs=z)"
   ]
  },
  {
   "cell_type": "code",
   "execution_count": 6,
   "id": "df70f068",
   "metadata": {},
   "outputs": [
    {
     "name": "stdout",
     "output_type": "stream",
     "text": [
      "WARNING:tensorflow:From /home/mahsa.geshvadi001/miniconda3/envs/ZHIHAO/lib/python3.6/site-packages/keras/backend/tensorflow_backend.py:4070: The name tf.nn.max_pool is deprecated. Please use tf.nn.max_pool2d instead.\n",
      "\n",
      "Level2: 12 12 64\n",
      "ratio_p_layers 6 (?, 1)\n",
      "output layer:  (?, 6)\n"
     ]
    }
   ],
   "source": [
    "model = Build_IRN_m_Network()"
   ]
  },
  {
   "cell_type": "code",
   "execution_count": 7,
   "id": "1516af87",
   "metadata": {},
   "outputs": [],
   "source": [
    "model.compile(loss='mse', optimizer=m_optimizer)\n"
   ]
  },
  {
   "cell_type": "code",
   "execution_count": 6,
   "id": "c6356ddf",
   "metadata": {},
   "outputs": [
    {
     "name": "stdout",
     "output_type": "stream",
     "text": [
      "Generating TEST Dataset: 20000 ----------------\n",
      "   id 0 (obj_num = 3)\n",
      "   id 5000 (obj_num = 3)\n",
      "   id 10000 (obj_num = 6)\n",
      "   id 15000 (obj_num = 5)\n",
      "x_shape:  (6, 20000, 100, 100, 3)\n",
      "y_shape:  (20000, 6)\n"
     ]
    }
   ],
   "source": [
    "test_num  = 20000\n",
    "\n",
    "\n",
    "x_test, y_test = GenerateDatasetIRNm(flag='test', image_num=test_num)\n",
    "x_test -= .5\n",
    "x_test = [x_test[i] for i in range(config.max_obj_num)]\n",
    "x_test.append(np.ones(test_num))  # Test_num, R1 = 1"
   ]
  },
  {
   "cell_type": "code",
   "execution_count": null,
   "id": "32412aba",
   "metadata": {},
   "outputs": [],
   "source": []
  },
  {
   "cell_type": "code",
   "execution_count": 8,
   "id": "ed6c8a6a",
   "metadata": {},
   "outputs": [],
   "source": [
    "model.load_weights('Bar_fixedColor_Weights.h5')"
   ]
  },
  {
   "cell_type": "code",
   "execution_count": 8,
   "id": "d45789b7",
   "metadata": {},
   "outputs": [
    {
     "name": "stdout",
     "output_type": "stream",
     "text": [
      "WARNING:tensorflow:From /home/mahsa.geshvadi001/miniconda3/envs/ZHIHAO/lib/python3.6/site-packages/keras/backend/tensorflow_backend.py:422: The name tf.global_variables is deprecated. Please use tf.compat.v1.global_variables instead.\n",
      "\n"
     ]
    }
   ],
   "source": [
    "m_batchSize = 32            # batch_size\n",
    "\n",
    "test_loss = model.evaluate(x_test, y_test, verbose=0, batch_size=m_batchSize)"
   ]
  },
  {
   "cell_type": "code",
   "execution_count": 9,
   "id": "4b8661b9",
   "metadata": {},
   "outputs": [
    {
     "data": {
      "text/plain": [
       "0.00010015391119522974"
      ]
     },
     "execution_count": 9,
     "metadata": {},
     "output_type": "execute_result"
    }
   ],
   "source": [
    "test_loss"
   ]
  },
  {
   "cell_type": "code",
   "execution_count": null,
   "id": "210165be",
   "metadata": {},
   "outputs": [],
   "source": []
  },
  {
   "cell_type": "code",
   "execution_count": 10,
   "id": "09fbef2b",
   "metadata": {},
   "outputs": [
    {
     "name": "stdout",
     "output_type": "stream",
     "text": [
      "20000\n"
     ]
    }
   ],
   "source": [
    "MLAE_test,y,predic_y = SavePredictedResult('results/', x_test, y_test, 'test_usingTrain')\n"
   ]
  },
  {
   "cell_type": "code",
   "execution_count": 11,
   "id": "51550c77",
   "metadata": {},
   "outputs": [
    {
     "name": "stdout",
     "output_type": "stream",
     "text": [
      "-0.5775164551856735\n"
     ]
    }
   ],
   "source": [
    "print(MLAE_test)"
   ]
  },
  {
   "cell_type": "code",
   "execution_count": null,
   "id": "7919bd8f",
   "metadata": {},
   "outputs": [],
   "source": []
  },
  {
   "cell_type": "code",
   "execution_count": 9,
   "id": "51e4a4ec",
   "metadata": {},
   "outputs": [
    {
     "name": "stdout",
     "output_type": "stream",
     "text": [
      "Generating TEST Dataset: 20000 ----------------\n",
      "   id 0 (obj_num = 5)\n",
      "   id 5000 (obj_num = 5)\n",
      "   id 10000 (obj_num = 3)\n",
      "   id 15000 (obj_num = 3)\n",
      "x_shape:  (6, 20000, 100, 100, 3)\n",
      "y_shape:  (20000, 6)\n",
      "WARNING:tensorflow:From /home/mahsa.geshvadi001/miniconda3/envs/ZHIHAO/lib/python3.6/site-packages/keras/backend/tensorflow_backend.py:422: The name tf.global_variables is deprecated. Please use tf.compat.v1.global_variables instead.\n",
      "\n",
      "20000\n"
     ]
    }
   ],
   "source": [
    "\n",
    "test_num  = 20000\n",
    "\n",
    "\n",
    "x_test_bc, y_test_bc = GenerateDatasetIRNm(flag='test', image_num=test_num)\n",
    "x_test_bc -= .5\n",
    "x_test_bc = [x_test_bc[i] for i in range(config.max_obj_num)]\n",
    "x_test_bc.append(np.ones(test_num))  # Test_num, R1 = 1\n",
    "\n",
    "m_batchSize = 32            # batch_size\n",
    "\n",
    "test_loss_bc = model.evaluate(x_test_bc, y_test_bc, verbose=0, batch_size=m_batchSize)\n",
    "\n",
    "MLAE_test_bc,y_bc,predic_y_bc = SavePredictedResult('results/', x_test_bc, y_test_bc, 'test_usingTrain')\n"
   ]
  },
  {
   "cell_type": "code",
   "execution_count": 10,
   "id": "962adcc4",
   "metadata": {},
   "outputs": [
    {
     "data": {
      "text/plain": [
       "4.883756460875016"
      ]
     },
     "execution_count": 10,
     "metadata": {},
     "output_type": "execute_result"
    }
   ],
   "source": [
    "MLAE_test_bc"
   ]
  },
  {
   "cell_type": "code",
   "execution_count": null,
   "id": "3c0084a5",
   "metadata": {},
   "outputs": [],
   "source": []
  },
  {
   "cell_type": "code",
   "execution_count": null,
   "id": "9b84143d",
   "metadata": {},
   "outputs": [],
   "source": []
  },
  {
   "cell_type": "code",
   "execution_count": null,
   "id": "f464c574",
   "metadata": {},
   "outputs": [],
   "source": []
  },
  {
   "cell_type": "code",
   "execution_count": 13,
   "id": "98d0bc9d",
   "metadata": {},
   "outputs": [],
   "source": [
    "%matplotlib inline \n",
    "\n",
    "from matplotlib import pyplot as plt"
   ]
  },
  {
   "cell_type": "code",
   "execution_count": 14,
   "id": "1c658bde",
   "metadata": {},
   "outputs": [
    {
     "ename": "NameError",
     "evalue": "name 'x_test' is not defined",
     "output_type": "error",
     "traceback": [
      "\u001b[0;31m---------------------------------------------------------------------------\u001b[0m",
      "\u001b[0;31mNameError\u001b[0m                                 Traceback (most recent call last)",
      "\u001b[0;32m<ipython-input-14-8c3675f1185c>\u001b[0m in \u001b[0;36m<module>\u001b[0;34m\u001b[0m\n\u001b[0;32m----> 1\u001b[0;31m \u001b[0mimgplot\u001b[0m \u001b[0;34m=\u001b[0m \u001b[0mplt\u001b[0m\u001b[0;34m.\u001b[0m\u001b[0mimshow\u001b[0m\u001b[0;34m(\u001b[0m\u001b[0mx_test\u001b[0m\u001b[0;34m[\u001b[0m\u001b[0;36m1\u001b[0m\u001b[0;34m]\u001b[0m\u001b[0;34m[\u001b[0m\u001b[0;36m3\u001b[0m\u001b[0;34m]\u001b[0m\u001b[0;34m)\u001b[0m\u001b[0;34m\u001b[0m\u001b[0;34m\u001b[0m\u001b[0m\n\u001b[0m\u001b[1;32m      2\u001b[0m \u001b[0mplt\u001b[0m\u001b[0;34m.\u001b[0m\u001b[0mshow\u001b[0m\u001b[0;34m(\u001b[0m\u001b[0;34m)\u001b[0m\u001b[0;34m\u001b[0m\u001b[0;34m\u001b[0m\u001b[0m\n",
      "\u001b[0;31mNameError\u001b[0m: name 'x_test' is not defined"
     ]
    }
   ],
   "source": [
    "\n",
    "imgplot = plt.imshow(x_test[1][3])\n",
    "plt.show()"
   ]
  },
  {
   "cell_type": "code",
   "execution_count": null,
   "id": "0f5c1412",
   "metadata": {},
   "outputs": [],
   "source": []
  },
  {
   "cell_type": "code",
   "execution_count": null,
   "id": "46c99100",
   "metadata": {},
   "outputs": [],
   "source": []
  },
  {
   "cell_type": "code",
   "execution_count": 19,
   "id": "46b2598d",
   "metadata": {},
   "outputs": [],
   "source": [
    "i = 1"
   ]
  },
  {
   "cell_type": "code",
   "execution_count": 20,
   "id": "3bef4527",
   "metadata": {},
   "outputs": [
    {
     "name": "stderr",
     "output_type": "stream",
     "text": [
      "Clipping input data to the valid range for imshow with RGB data ([0..1] for floats or [0..255] for integers).\n"
     ]
    },
    {
     "data": {
      "image/png": "[encoded data removed]",
      "text/plain": [
       "<Figure size 432x288 with 1 Axes>"
      ]
     },
     "metadata": {
      "needs_background": "light"
     },
     "output_type": "display_data"
    }
   ],
   "source": [
    "data = x_test[1][i]\n",
    "\n",
    "plt.imshow(data)\n",
    "plt.show()"
   ]
  },
  {
   "cell_type": "code",
   "execution_count": null,
   "id": "a5562448",
   "metadata": {},
   "outputs": [
    {
     "name": "stderr",
     "output_type": "stream",
     "text": [
      "Clipping input data to the valid range for imshow with RGB data ([0..1] for floats or [0..255] for integers).\n"
     ]
    }
   ],
   "source": [
    "data = x_test[2][i]\n",
    "\n",
    "plt.imshow(data)\n",
    "plt.show()"
   ]
  },
  {
   "cell_type": "code",
   "execution_count": null,
   "id": "d8011ca7",
   "metadata": {},
   "outputs": [],
   "source": [
    "data = x_test[3][i]\n",
    "\n",
    "plt.imshow(data, interpolation='nearest')\n",
    "plt.show()"
   ]
  },
  {
   "cell_type": "code",
   "execution_count": null,
   "id": "361d52b2",
   "metadata": {},
   "outputs": [],
   "source": [
    "data = x_test[4][i]\n",
    "\n",
    "plt.imshow(data, interpolation='nearest')\n",
    "plt.show()"
   ]
  },
  {
   "cell_type": "code",
   "execution_count": null,
   "id": "a909df77",
   "metadata": {},
   "outputs": [],
   "source": [
    "data = x_test[5][i]\n",
    "\n",
    "plt.imshow(data, interpolation='nearest')\n",
    "plt.show()"
   ]
  },
  {
   "cell_type": "code",
   "execution_count": null,
   "id": "244c1fe1",
   "metadata": {},
   "outputs": [],
   "source": []
  },
  {
   "cell_type": "code",
   "execution_count": null,
   "id": "124222b7",
   "metadata": {},
   "outputs": [],
   "source": []
  }
 ],
 "metadata": {
  "kernelspec": {
   "display_name": "Python 3",
   "language": "python",
   "name": "python3"
  },
  "language_info": {
   "codemirror_mode": {
    "name": "ipython",
    "version": 3
   },
   "file_extension": ".py",
   "mimetype": "text/x-python",
   "name": "python",
   "nbconvert_exporter": "python",
   "pygments_lexer": "ipython3",
   "version": "3.6.10"
  }
 },
 "nbformat": 4,
 "nbformat_minor": 5
}
