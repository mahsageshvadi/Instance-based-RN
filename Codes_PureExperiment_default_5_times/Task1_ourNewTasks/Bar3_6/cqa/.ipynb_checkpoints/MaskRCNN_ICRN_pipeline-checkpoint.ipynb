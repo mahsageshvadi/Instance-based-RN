{
 "cells": [
  {
   "cell_type": "code",
   "execution_count": 39,
   "id": "88bff7dd",
   "metadata": {},
   "outputs": [],
   "source": [
    "import os\n",
    "import sys\n",
    "import cv2\n",
    "\n",
    "ROOT_DIR = os.path.abspath(\"../../\")\n",
    "\n",
    "sys.path.append(ROOT_DIR)"
   ]
  },
  {
   "cell_type": "code",
   "execution_count": null,
   "id": "3a29d690",
   "metadata": {},
   "outputs": [],
   "source": []
  },
  {
   "cell_type": "code",
   "execution_count": 40,
   "id": "243aa2d8",
   "metadata": {},
   "outputs": [],
   "source": [
    "import numpy as np\n",
    "import math\n",
    "import mrcnn.model as modellib\n",
    "\n",
    "\n",
    "import ICRNConfigure\n",
    "from mrcnn.config import Config\n",
    "from Dataset_generator_Barchart import GenerateOneBarChart"
   ]
  },
  {
   "cell_type": "code",
   "execution_count": 41,
   "id": "e793a6ca",
   "metadata": {},
   "outputs": [
    {
     "name": "stdout",
     "output_type": "stream",
     "text": [
      "\n",
      "Configurations:\n",
      "BACKBONE                       resnet101\n",
      "BACKBONE_STRIDES               [4, 8, 16, 32, 64]\n",
      "BATCH_SIZE                     8\n",
      "BBOX_STD_DEV                   [0.1 0.1 0.2 0.2]\n",
      "COMPUTE_BACKBONE_SHAPE         None\n",
      "DETECTION_MAX_INSTANCES        100\n",
      "DETECTION_MIN_CONFIDENCE       0.7\n",
      "DETECTION_NMS_THRESHOLD        0.3\n",
      "FPN_CLASSIF_FC_LAYERS_SIZE     1024\n",
      "GPU_COUNT                      1\n",
      "GRADIENT_CLIP_NORM             5.0\n",
      "IMAGES_PER_GPU                 8\n",
      "IMAGE_CHANNEL_COUNT            3\n",
      "IMAGE_MAX_DIM                  128\n",
      "IMAGE_META_SIZE                14\n",
      "IMAGE_MIN_DIM                  128\n",
      "IMAGE_MIN_SCALE                0\n",
      "IMAGE_RESIZE_MODE              square\n",
      "IMAGE_SHAPE                    [128 128   3]\n",
      "LEARNING_MOMENTUM              0.9\n",
      "LEARNING_RATE                  0.001\n",
      "LOSS_WEIGHTS                   {'rpn_class_loss': 1.0, 'rpn_bbox_loss': 1.0, 'mrcnn_class_loss': 1.0, 'mrcnn_bbox_loss': 1.0, 'mrcnn_mask_loss': 1.0}\n",
      "MASK_POOL_SIZE                 14\n",
      "MASK_SHAPE                     [28, 28]\n",
      "MAX_GT_INSTANCES               100\n",
      "MEAN_PIXEL                     [123.7 116.8 103.9]\n",
      "MINI_MASK_SHAPE                (56, 56)\n",
      "NAME                           CQA\n",
      "NUM_CLASSES                    2\n",
      "POOL_SIZE                      7\n",
      "POST_NMS_ROIS_INFERENCE        1000\n",
      "POST_NMS_ROIS_TRAINING         2000\n",
      "PRE_NMS_LIMIT                  6000\n",
      "ROI_POSITIVE_RATIO             0.33\n",
      "RPN_ANCHOR_RATIOS              [0.5, 1, 2]\n",
      "RPN_ANCHOR_SCALES              (8, 16, 32, 64, 128)\n",
      "RPN_ANCHOR_STRIDE              1\n",
      "RPN_BBOX_STD_DEV               [0.1 0.1 0.2 0.2]\n",
      "RPN_NMS_THRESHOLD              0.7\n",
      "RPN_TRAIN_ANCHORS_PER_IMAGE    256\n",
      "STEPS_PER_EPOCH                100\n",
      "TOP_DOWN_PYRAMID_SIZE          256\n",
      "TRAIN_BN                       False\n",
      "TRAIN_ROIS_PER_IMAGE           32\n",
      "USE_MINI_MASK                  False\n",
      "USE_RPN_ROIS                   True\n",
      "VALIDATION_STEPS               5\n",
      "WEIGHT_DECAY                   0.0001\n",
      "\n",
      "\n"
     ]
    }
   ],
   "source": [
    "class ShapesConfig(Config):\n",
    "    \"\"\"Configuration for training on the toy shapes dataset.\n",
    "    Derives from the base Config class and overrides values specific\n",
    "    to the toy shapes dataset.\n",
    "    \"\"\"\n",
    "    # Give the configuration a recognizable name\n",
    "    NAME = \"CQA\"\n",
    "\n",
    "    # Train on 1 GPU and 8 images per GPU. We can put multiple images on each\n",
    "    # GPU because the images are small. Batch size is 8 (GPUs * images/GPU).\n",
    "    GPU_COUNT = 1\n",
    "    IMAGES_PER_GPU = 8\n",
    "\n",
    "    # Number of classes (including background)\n",
    "    NUM_CLASSES = 1 + 1  # background + 3 shapes\n",
    "\n",
    "    # Use small images for faster training. Set the limits of the small side\n",
    "    # the large side, and that determines the image shape.\n",
    "    IMAGE_MIN_DIM = 128\n",
    "    IMAGE_MAX_DIM = 128\n",
    "\n",
    "    # Use smaller anchors because our image and objects are small\n",
    "    RPN_ANCHOR_SCALES = (8, 16, 32, 64, 128)  # anchor side in pixels\n",
    "\n",
    "    # Reduce training ROIs per image because the images are small and have\n",
    "    # few objects. Aim to allow ROI sampling to pick 33% positive ROIs.\n",
    "    TRAIN_ROIS_PER_IMAGE = 32\n",
    "\n",
    "    # Use a small epoch since the data is simple\n",
    "    STEPS_PER_EPOCH = 100\n",
    "\n",
    "    # use small validation steps since the epoch is small\n",
    "    VALIDATION_STEPS = 5\n",
    "    \n",
    "maskrcnnconfig = ShapesConfig()\n",
    "maskrcnnconfig.display()"
   ]
  },
  {
   "cell_type": "code",
   "execution_count": 42,
   "id": "1a5684d5",
   "metadata": {},
   "outputs": [],
   "source": [
    "RCNNMODEL_DIR = os.path.join(ROOT_DIR, \"MaskRCNNlogs/BarChart_color\")"
   ]
  },
  {
   "cell_type": "markdown",
   "id": "569b2026",
   "metadata": {},
   "source": [
    "# load Mask RCNN"
   ]
  },
  {
   "cell_type": "code",
   "execution_count": 43,
   "id": "dff920ae",
   "metadata": {},
   "outputs": [
    {
     "name": "stdout",
     "output_type": "stream",
     "text": [
      "Loading weights from  /home/mahsa.geshvadi001/projects/PaperCodes/2_Comparison/Instance-based-RN/Codes_PureExperiment_default_5_times/Task1_ourNewTasks/MaskRCNNlogs/BarChart_color/cqa20230313T1326/mask_rcnn_cqa_0060.h5\n",
      "Re-starting from epoch 60\n"
     ]
    }
   ],
   "source": [
    "class InferenceConfig(ShapesConfig):\n",
    "    GPU_COUNT = 1\n",
    "    IMAGES_PER_GPU = 1\n",
    "\n",
    "inference_config = InferenceConfig()\n",
    "\n",
    "# Recreate the model in inference mode\n",
    "maskrcnn_model = modellib.MaskRCNN(mode=\"inference\", \n",
    "                          config=inference_config,\n",
    "                          model_dir=RCNNMODEL_DIR)\n",
    "\n",
    "maskrcnn_model_path = maskrcnn_model.find_last()\n",
    "\n",
    "# Load trained weights\n",
    "print(\"Loading weights from \", maskrcnn_model_path)\n",
    "maskrcnn_model.load_weights(maskrcnn_model_path, by_name=True)"
   ]
  },
  {
   "cell_type": "code",
   "execution_count": null,
   "id": "917c0d50",
   "metadata": {},
   "outputs": [],
   "source": []
  },
  {
   "cell_type": "markdown",
   "id": "b4c1cd92",
   "metadata": {},
   "source": [
    "# Load Test Data"
   ]
  },
  {
   "cell_type": "code",
   "execution_count": 44,
   "id": "e3c52a49",
   "metadata": {},
   "outputs": [],
   "source": [
    "ICRN_config = ICRNConfigure.Config()\n"
   ]
  },
  {
   "cell_type": "code",
   "execution_count": null,
   "id": "5fc95411",
   "metadata": {},
   "outputs": [],
   "source": []
  },
  {
   "cell_type": "markdown",
   "id": "7162355d",
   "metadata": {},
   "source": [
    "Configurations"
   ]
  },
  {
   "cell_type": "code",
   "execution_count": 14,
   "id": "a9b947a4",
   "metadata": {},
   "outputs": [],
   "source": [
    "image_num = 20\n",
    "min_num_obj = 3\n",
    "max_num_obj = 6"
   ]
  },
  {
   "cell_type": "markdown",
   "id": "9c33c1e0",
   "metadata": {},
   "source": [
    "Generate Test dataset"
   ]
  },
  {
   "cell_type": "code",
   "execution_count": 19,
   "id": "40382339",
   "metadata": {},
   "outputs": [],
   "source": [
    "def get_segmented_image(segments_bbs, image):\n",
    "    \n",
    "    removed_image = image.copy()\n",
    "    for i in range(len(segments_bbs)):\n",
    "        toremovesegment = segments_bbs[i]\n",
    "    \n",
    "        x1 = toremovesegment[0]\n",
    "        y1  = toremovesegment[2]\n",
    "        x2 = toremovesegment[1]\n",
    "        y2 = toremovesegment[3]\n",
    "\n",
    "        removed_image[x1 : y1, x2 : y2] = (1, 1, 1)\n",
    "        removed_image[x1 : y1, x2 : y2] =removed_image[x1 : y1, x2 : y2] +  np.random.uniform(0, 0.05, (abs(y1-x1), abs(y2-x2),3))\n",
    "        _min = 0.0  # because the image is not 0/1 black-and-white image, is a RGB image.\n",
    "        _max = removed_image.max()\n",
    "        removed_image -= _min\n",
    "        removed_image[x1 : y1, x2 : y2] /= (_max - _min)\n",
    "   \n",
    "    return removed_image"
   ]
  },
  {
   "cell_type": "code",
   "execution_count": 20,
   "id": "68c95b4d",
   "metadata": {},
   "outputs": [
    {
     "name": "stdout",
     "output_type": "stream",
     "text": [
      "Resetting the folder..... testDataset\n"
     ]
    }
   ],
   "source": [
    "ICRNConfigure.MakeDir('testDataset')\n",
    "ICRNConfigure.ClearDir('testDataset')\n"
   ]
  },
  {
   "cell_type": "code",
   "execution_count": 17,
   "id": "7aaaa614",
   "metadata": {},
   "outputs": [],
   "source": [
    "def saveImage(image, featureVector, i):\n",
    "\n",
    "    file_gt = open('testDataset/ground_truth.txt', 'w')\n",
    "    file_pair_gt = open('testDataset/pair_ground_truth.txt','w')\n",
    "    cv2.imwrite('testDataset/' + ICRN_config.chartName.format(i), image * 255)\n",
    "    \n",
    "    for t in range(len(featureVector)):\n",
    "        file_gt.write(\"%.6f\\t\" % (featureVector[t]))\n",
    "                \n",
    "    for t in range(ICRN_config.max_obj_num - len(featureVector)):\n",
    "        file_gt.write(\"0.00\\t\")\n",
    "        file_gt.write(\"\\n\")\n",
    "\n",
    "    for t in range(len(featureVector) - 1):\n",
    "            file_pair_gt.write(\"{} {} {}\\n\".format(ICRN_config.subChartName.format(i, t),\n",
    "                                                       ICRN_config.subChartName.format(i, t + 1),\n",
    "                                                       featureVector[t+1] / featureVector[t]))\n"
   ]
  },
  {
   "cell_type": "code",
   "execution_count": null,
   "id": "ce4026b1",
   "metadata": {},
   "outputs": [],
   "source": []
  },
  {
   "cell_type": "code",
   "execution_count": 18,
   "id": "2b8f116b",
   "metadata": {},
   "outputs": [],
   "source": [
    "_images = np.ones((ICRN_config.max_obj_num, image_num, ICRN_config.image_height, ICRN_config.image_width, 3), dtype='float32')\n",
    "_labels = []\n",
    "number_of_bars = []"
   ]
  },
  {
   "cell_type": "code",
   "execution_count": 21,
   "id": "23a26f3d",
   "metadata": {},
   "outputs": [
    {
     "name": "stdout",
     "output_type": "stream",
     "text": [
      "Processing 1 images\n",
      "image                    shape: (100, 100, 3)         min:    0.07392  max:    1.00000  float64\n",
      "molded_images            shape: (1, 128, 128, 3)      min: -123.62600  max: -102.90111  float64\n",
      "image_metas              shape: (1, 14)               min:    0.00000  max:  128.00000  float64\n",
      "anchors                  shape: (1, 4092, 4)          min:   -0.71267  max:    1.20874  float32\n",
      "Processing 1 images\n",
      "image                    shape: (100, 100, 3)         min:    0.00812  max:    1.00000  float64\n",
      "molded_images            shape: (1, 128, 128, 3)      min: -123.68888  max: -102.90105  float64\n",
      "image_metas              shape: (1, 14)               min:    0.00000  max:  128.00000  float64\n",
      "anchors                  shape: (1, 4092, 4)          min:   -0.71267  max:    1.20874  float32\n",
      "Processing 1 images\n",
      "image                    shape: (100, 100, 3)         min:    0.05673  max:    1.00000  float64\n",
      "molded_images            shape: (1, 128, 128, 3)      min: -123.64327  max: -102.90112  float64\n",
      "image_metas              shape: (1, 14)               min:    0.00000  max:  128.00000  float64\n",
      "anchors                  shape: (1, 4092, 4)          min:   -0.71267  max:    1.20874  float32\n",
      "Processing 1 images\n",
      "image                    shape: (100, 100, 3)         min:    0.01310  max:    1.00000  float64\n",
      "molded_images            shape: (1, 128, 128, 3)      min: -123.68690  max: -102.90073  float64\n",
      "image_metas              shape: (1, 14)               min:    0.00000  max:  128.00000  float64\n",
      "anchors                  shape: (1, 4092, 4)          min:   -0.71267  max:    1.20874  float32\n",
      "Processing 1 images\n",
      "image                    shape: (100, 100, 3)         min:    0.01618  max:    1.00000  float64\n",
      "molded_images            shape: (1, 128, 128, 3)      min: -123.66398  max: -102.90040  float64\n",
      "image_metas              shape: (1, 14)               min:    0.00000  max:  128.00000  float64\n",
      "anchors                  shape: (1, 4092, 4)          min:   -0.71267  max:    1.20874  float32\n",
      "Processing 1 images\n",
      "image                    shape: (100, 100, 3)         min:    0.22113  max:    1.00000  float64\n",
      "molded_images            shape: (1, 128, 128, 3)      min: -123.47459  max: -102.90058  float64\n",
      "image_metas              shape: (1, 14)               min:    0.00000  max:  128.00000  float64\n",
      "anchors                  shape: (1, 4092, 4)          min:   -0.71267  max:    1.20874  float32\n",
      "Processing 1 images\n",
      "image                    shape: (100, 100, 3)         min:    0.08588  max:    1.00000  float64\n",
      "molded_images            shape: (1, 128, 128, 3)      min: -123.43642  max: -102.90109  float64\n",
      "image_metas              shape: (1, 14)               min:    0.00000  max:  128.00000  float64\n",
      "anchors                  shape: (1, 4092, 4)          min:   -0.71267  max:    1.20874  float32\n",
      "Processing 1 images\n",
      "image                    shape: (100, 100, 3)         min:    0.17186  max:    1.00000  float64\n",
      "molded_images            shape: (1, 128, 128, 3)      min: -123.47557  max: -102.90049  float64\n",
      "image_metas              shape: (1, 14)               min:    0.00000  max:  128.00000  float64\n",
      "anchors                  shape: (1, 4092, 4)          min:   -0.71267  max:    1.20874  float32\n",
      "Processing 1 images\n",
      "image                    shape: (100, 100, 3)         min:    0.02005  max:    1.00000  float64\n",
      "molded_images            shape: (1, 128, 128, 3)      min: -123.51954  max: -102.90075  float64\n",
      "image_metas              shape: (1, 14)               min:    0.00000  max:  128.00000  float64\n",
      "anchors                  shape: (1, 4092, 4)          min:   -0.71267  max:    1.20874  float32\n",
      "Processing 1 images\n",
      "image                    shape: (100, 100, 3)         min:    0.00192  max:    1.00000  float64\n",
      "molded_images            shape: (1, 128, 128, 3)      min: -123.52475  max: -102.90050  float64\n",
      "image_metas              shape: (1, 14)               min:    0.00000  max:  128.00000  float64\n",
      "anchors                  shape: (1, 4092, 4)          min:   -0.71267  max:    1.20874  float32\n"
     ]
    }
   ],
   "source": [
    "for i in range(image_num):\n",
    "\n",
    "        image, _, featureVector = GenerateOneBarChart(\n",
    "                num=np.random.randint(min_num_obj, max_num_obj + 1))\n",
    "        \n",
    "        saveImage(image, featureVector, i)\n",
    "        featureVector = np.array(featureVector)\n",
    "\n",
    "        results = maskrcnn_model.detect([image], verbose=1)\n",
    "        r = results[0]\n",
    "        arr = r['rois']\n",
    "        segments_bbs = arr[arr[:,1].argsort()]\n",
    "\n",
    "        segments = []\n",
    "        for t in range(len(r['rois'])):\n",
    "            segments.append(get_segmented_image([x for x in segments_bbs if ((x != segments_bbs[t]).any())], image))\n",
    "\n",
    "            \n",
    "        subImages = [np.ones(shape=(ICRN_config.image_width,ICRN_config.image_width,3)) for i in range(ICRN_config.max_obj_num)]\n",
    "        for count in range(len(r['rois'])):\n",
    "\n",
    "            if count< 6:\n",
    "                subImages[count] = segments[count]\n",
    "            \n",
    "        for t in range(ICRN_config.max_obj_num):\n",
    "            _images[t][i] = subImages[t]\n",
    "\n",
    "        number_of_bars.append(len(r['rois']))\n",
    "        \n",
    "        label = np.zeros(ICRN_config.max_obj_num, dtype='float32')\n",
    "        label[:len(featureVector)] = featureVector\n",
    "        _labels.append(label)\n",
    "        \n",
    "_labels = np.array(_labels, dtype='float32')"
   ]
  },
  {
   "cell_type": "code",
   "execution_count": 22,
   "id": "5d49f6d6",
   "metadata": {},
   "outputs": [],
   "source": [
    "x_test = _images"
   ]
  },
  {
   "cell_type": "code",
   "execution_count": 23,
   "id": "27b2549d",
   "metadata": {},
   "outputs": [],
   "source": [
    "x_test = [x_test[i] for i in range(ICRN_config.max_obj_num)]\n",
    "x_test.append(np.ones(image_num))\n",
    "input_test = [x_test[i] for i in range(ICRN_config.max_obj_num)]\n",
    "input_test.append(np.ones(input_test[0].shape[0]))"
   ]
  },
  {
   "cell_type": "code",
   "execution_count": 24,
   "id": "f13f9637",
   "metadata": {},
   "outputs": [
    {
     "data": {
      "text/plain": [
       "7"
      ]
     },
     "execution_count": 24,
     "metadata": {},
     "output_type": "execute_result"
    }
   ],
   "source": [
    "len(input_test)"
   ]
  },
  {
   "cell_type": "code",
   "execution_count": 25,
   "id": "228a0692",
   "metadata": {},
   "outputs": [
    {
     "data": {
      "text/plain": [
       "(6, 10, 100, 100, 3)"
      ]
     },
     "execution_count": 25,
     "metadata": {},
     "output_type": "execute_result"
    }
   ],
   "source": [
    "_images.shape"
   ]
  },
  {
   "cell_type": "code",
   "execution_count": 35,
   "id": "994b086d",
   "metadata": {},
   "outputs": [],
   "source": [
    "import matplotlib.pyplot as plt"
   ]
  },
  {
   "cell_type": "code",
   "execution_count": 38,
   "id": "5165aa67",
   "metadata": {},
   "outputs": [
    {
     "data": {
      "text/plain": [
       "<matplotlib.image.AxesImage at 0x7f1b7cf4a3d0>"
      ]
     },
     "execution_count": 38,
     "metadata": {},
     "output_type": "execute_result"
    },
    {
     "data": {
      "image/png": "[encoded data removed]",
      "text/plain": [
       "<Figure size 640x480 with 1 Axes>"
      ]
     },
     "metadata": {},
     "output_type": "display_data"
    }
   ],
   "source": [
    "plt.imshow(_images[0][0])"
   ]
  },
  {
   "cell_type": "markdown",
   "id": "d87d359b",
   "metadata": {},
   "source": [
    "# Predict the ratio with ICRN "
   ]
  },
  {
   "cell_type": "code",
   "execution_count": 26,
   "id": "d9393c49",
   "metadata": {},
   "outputs": [
    {
     "name": "stderr",
     "output_type": "stream",
     "text": [
      "Using TensorFlow backend.\n"
     ]
    }
   ],
   "source": [
    "\n",
    "import numpy as np\n",
    "import keras\n",
    "import keras.backend as K\n",
    "from keras.models import Sequential, Model\n",
    "from keras.layers import Dense, Dropout, Flatten,Input\n",
    "from keras.layers import Conv2D, MaxPooling2D\n",
    "import tensorflow as tf\n",
    "from keras.optimizers import SGD, Adam\n",
    "from non_local import non_local_block\n",
    "import matplotlib.pyplot as plt\n",
    "import cv2\n",
    "import os\n",
    "import time, argparse\n",
    "import pickle\n",
    "import sklearn\n",
    "from sklearn.metrics import mean_squared_error\n"
   ]
  },
  {
   "cell_type": "code",
   "execution_count": 27,
   "id": "6fbe9e2e",
   "metadata": {},
   "outputs": [],
   "source": [
    "\n",
    "def Level1_Module():\n",
    "    input = Input(shape=(ICRN_config.image_height, ICRN_config.image_width, 3))\n",
    "    x = Conv2D(32, (3, 3), activation='relu', padding='same')(input)\n",
    "    x = Conv2D(32, (3, 3), activation='relu', padding='same')(x)\n",
    "    x = MaxPooling2D(pool_size=(2, 2), strides=(2, 2))(x)\n",
    "    x = Conv2D(64, (3, 3), activation='relu', padding='same')(x)\n",
    "    x = Conv2D(64, (3, 3), activation='relu', padding='same')(x)\n",
    "    x = MaxPooling2D(pool_size=(2, 2), strides=(2, 2))(x)\n",
    "    x = non_local_block(x)   # non local block\n",
    "    x = Conv2D(64, (3, 3), activation='relu', padding='same')(x)\n",
    "    x = Conv2D(64, (3, 3), activation='relu', padding='same')(x)\n",
    "    x = Conv2D(64, (3, 3), activation='relu', padding='same')(x)\n",
    "    x = MaxPooling2D(pool_size=(2, 2), strides=(2, 2))(x)\n",
    "    x = non_local_block(x)   # non local block\n",
    "    return Model(inputs=input, outputs=x)\n",
    "\n",
    "# Level2 module is to compute the ratio of a pair.\n",
    "# Level2 has one NON-LOCAL block.\n",
    "def Level2_Module(w,h,c):\n",
    "    print(\"Level2:\", w,h,c)\n",
    "\n",
    "    inputA = Input(shape=(w, h, c))\n",
    "    inputB = Input(shape=(w, h, c))\n",
    "\n",
    "    combined = keras.layers.concatenate([inputA, inputB])   # concatenate them.\n",
    "    z = Conv2D(64, (3, 3), activation='relu',padding='same')(combined)\n",
    "    z = Conv2D(64, (3, 3), activation='relu', padding='same')(z)\n",
    "    z = non_local_block(z)   # non local block\n",
    "    #\n",
    "    z = Flatten()(z)\n",
    "    z = Dense(256, activation=\"relu\")(z)\n",
    "    z = Dropout(0.5)(z)\n",
    "    z = Dense(1, activation=\"linear\")(z)  # output the ratio of this pair.\n",
    "\n",
    "    return Model(inputs=[inputA, inputB], outputs=z)\n",
    "\n",
    "\n",
    "\n",
    "# IRN_m is final network to estimate the ratio vectors from multiple input instances.\n",
    "def Build_IRN_m_Network():\n",
    "    # input layers.\n",
    "    input_layers = []\n",
    "    # the first 'obj_num' inputs are corresponding to the input sub-charts.\n",
    "    for i in range(ICRN_config.max_obj_num):\n",
    "        input = Input(shape=(ICRN_config.image_height, ICRN_config.image_width, 3), name=\"input_{}\".format(i))\n",
    "        input_layers.append(input)\n",
    "\n",
    "    # The last input layer is used for representing R1=(o1/o1)=1.0 which is just a constant.\n",
    "    # Here, I would use an extra input layer which is 1-dim and always equal to 1.0 rather than directly using a contant.\n",
    "    # It makes same effect and can avoid some strange compile errors. (I only use TensorFlow before, not way familiar to Keras.)\n",
    "    R1_one_input = Input(shape=(1,),name=\"input_constant_scalar1\",dtype='float32')   # always equal to 1.0.\n",
    "    input_layers.append(R1_one_input)\n",
    "\n",
    "    # First extract individual features.\n",
    "    individual_features = []\n",
    "    level1 = Level1_Module()  # build a level1 module\n",
    "    for i in range(ICRN_config.max_obj_num):\n",
    "        x = level1(input_layers[i])\n",
    "        individual_features.append(x)\n",
    "\n",
    "    # Use a Level2 module to predict pairwise ratios.\n",
    "    level2 = Level2_Module(w=int(individual_features[0].shape[1]),\n",
    "                           h=int(individual_features[0].shape[2]),\n",
    "                           c=int(individual_features[0].shape[3]))\n",
    "\n",
    "    ratio_p_layers = [R1_one_input]   # pairwise ratio vector. put in' R1=(o1/o1)=1.0 '.\n",
    "    for i in range(ICRN_config.max_obj_num-1): # compute the ratio of each neighbor pair.\n",
    "        x = level2(inputs = [individual_features[i], individual_features[i+1]])\n",
    "        ratio_p_layers.append(x)\n",
    "\n",
    "    print(\"ratio_p_layers\", len(ratio_p_layers), ratio_p_layers[-1].shape)\n",
    "\n",
    "    # Compute the ratios relative to the first object by using MULTIPLY() operation.\n",
    "    ratio_layers = [R1_one_input]  # put in R1=1.0.\n",
    "    i = 1\n",
    "    while i<len(ratio_p_layers):\n",
    "        x = keras.layers.Multiply()(ratio_p_layers[:i+1])   # R1*R2*...Ri\n",
    "        i+=1\n",
    "        ratio_layers.append(x)\n",
    "\n",
    "    # divide the maxinum of 'ratio_layers' to get the final results.\n",
    "    max = keras.layers.maximum(ratio_layers)\n",
    "    z = keras.layers.concatenate(ratio_layers)\n",
    "    z = keras.layers.Lambda(lambda x: x[0]/x[1])([z, max])\n",
    "\n",
    "    print(\"output layer: \", z.shape)\n",
    "\n",
    "    return Model(inputs=input_layers, outputs=z)"
   ]
  },
  {
   "cell_type": "code",
   "execution_count": 28,
   "id": "04edd943",
   "metadata": {},
   "outputs": [
    {
     "name": "stdout",
     "output_type": "stream",
     "text": [
      "Level2: 12 12 64\n",
      "ratio_p_layers 6 (None, 1)\n",
      "output layer:  (None, 6)\n"
     ]
    }
   ],
   "source": [
    "model = Build_IRN_m_Network()\n",
    "m_optimizer = Adam(0.0001)\n",
    "model.compile(loss='mse', optimizer=m_optimizer)"
   ]
  },
  {
   "cell_type": "code",
   "execution_count": 29,
   "id": "f4ff8cfe",
   "metadata": {},
   "outputs": [],
   "source": [
    "model.load_weights('model_IcRN_onTrain_0.00010191364316851832.h5')"
   ]
  },
  {
   "cell_type": "code",
   "execution_count": 30,
   "id": "3cd3e24f",
   "metadata": {},
   "outputs": [],
   "source": [
    "predict_Y = model.predict(x=input_test, batch_size=1)\n"
   ]
  },
  {
   "cell_type": "code",
   "execution_count": 31,
   "id": "e8a00f27",
   "metadata": {},
   "outputs": [
    {
     "data": {
      "text/plain": [
       "array([[ 3.7306800e-01,  2.3244517e-01,  1.0000000e+00,  1.4982224e-03,\n",
       "         2.2107268e-05,  3.2620747e-07],\n",
       "       [ 1.0000000e+00,  2.1103400e-01,  2.5989869e-01,  9.8757493e-01,\n",
       "         4.0763792e-01,  6.9114316e-01],\n",
       "       [ 5.7391661e-01,  1.0000000e+00,  6.7342043e-01,  6.4008760e-01,\n",
       "         7.8748584e-01, -4.7867182e-03],\n",
       "       [ 8.2772756e-01,  1.0000000e+00,  8.3658862e-01,  4.2800185e-01,\n",
       "         1.7292307e-03,  2.5515952e-05],\n",
       "       [ 3.4602809e-01,  8.3860421e-01,  1.0000000e+00,  1.0263920e-03,\n",
       "         1.5145098e-05,  2.2347602e-07],\n",
       "       [ 1.0000000e+00,  5.5996835e-01,  4.1545248e-01,  9.5854986e-01,\n",
       "         6.1508560e-01, -3.6170322e-03],\n",
       "       [ 1.0000000e+00,  9.2559302e-01,  9.9647230e-01,  9.2275612e-02,\n",
       "         1.3615881e-03,  2.0091140e-05],\n",
       "       [ 1.0000000e+00,  1.9215405e-01,  9.6014500e-01,  3.2466643e-02,\n",
       "         4.7906695e-04,  7.0689521e-06],\n",
       "       [ 3.0238116e-01,  1.7333788e-01,  1.0000000e+00,  1.2617442e-01,\n",
       "         5.3389151e-02, -6.5246137e-04],\n",
       "       [ 8.9013416e-01,  1.0000000e+00,  3.8629979e-01,  2.9315248e-01,\n",
       "         5.5379188e-01,  5.4733300e-01]], dtype=float32)"
      ]
     },
     "execution_count": 31,
     "metadata": {},
     "output_type": "execute_result"
    }
   ],
   "source": [
    "predict_Y"
   ]
  },
  {
   "cell_type": "code",
   "execution_count": 24,
   "id": "8ba03fce",
   "metadata": {},
   "outputs": [],
   "source": [
    "for n in range(image_num):\n",
    "\n",
    "        predict_Y[n][number_of_bars[n]: 6] = 0"
   ]
  },
  {
   "cell_type": "code",
   "execution_count": null,
   "id": "320fbbb8",
   "metadata": {},
   "outputs": [],
   "source": []
  },
  {
   "cell_type": "code",
   "execution_count": 32,
   "id": "434c92a6",
   "metadata": {},
   "outputs": [],
   "source": [
    "y = _labels"
   ]
  },
  {
   "cell_type": "code",
   "execution_count": 33,
   "id": "8deb4645",
   "metadata": {},
   "outputs": [],
   "source": [
    "MLAE = np.log2(sklearn.metrics.mean_absolute_error( predict_Y * 100, y * 100) + .125)"
   ]
  },
  {
   "cell_type": "code",
   "execution_count": 34,
   "id": "bf1910e8",
   "metadata": {},
   "outputs": [
    {
     "data": {
      "text/plain": [
       "1.9311669933762112"
      ]
     },
     "execution_count": 34,
     "metadata": {},
     "output_type": "execute_result"
    }
   ],
   "source": [
    "MLAE"
   ]
  },
  {
   "cell_type": "code",
   "execution_count": null,
   "id": "2db528d1",
   "metadata": {},
   "outputs": [],
   "source": []
  },
  {
   "cell_type": "code",
   "execution_count": null,
   "id": "3b237d3b",
   "metadata": {},
   "outputs": [],
   "source": []
  },
  {
   "cell_type": "code",
   "execution_count": null,
   "id": "9d36d444",
   "metadata": {},
   "outputs": [],
   "source": []
  }
 ],
 "metadata": {
  "kernelspec": {
   "display_name": "Python 3 (ipykernel)",
   "language": "python",
   "name": "python3"
  },
  "language_info": {
   "codemirror_mode": {
    "name": "ipython",
    "version": 3
   },
   "file_extension": ".py",
   "mimetype": "text/x-python",
   "name": "python",
   "nbconvert_exporter": "python",
   "pygments_lexer": "ipython3",
   "version": "3.7.16"
  }
 },
 "nbformat": 4,
 "nbformat_minor": 5
}
