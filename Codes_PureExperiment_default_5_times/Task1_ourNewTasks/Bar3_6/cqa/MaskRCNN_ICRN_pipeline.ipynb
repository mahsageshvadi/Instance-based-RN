{
 "cells": [
  {
   "cell_type": "code",
   "execution_count": 7,
   "id": "88bff7dd",
   "metadata": {},
   "outputs": [],
   "source": [
    "import os\n",
    "import sys\n",
    "import cv2\n",
    "\n",
    "ROOT_DIR = os.path.abspath(\"../../\")\n",
    "\n",
    "sys.path.append(ROOT_DIR)"
   ]
  },
  {
   "cell_type": "code",
   "execution_count": null,
   "id": "3a29d690",
   "metadata": {},
   "outputs": [],
   "source": []
  },
  {
   "cell_type": "code",
   "execution_count": 8,
   "id": "243aa2d8",
   "metadata": {},
   "outputs": [
    {
     "name": "stderr",
     "output_type": "stream",
     "text": [
      "Using TensorFlow backend.\n"
     ]
    }
   ],
   "source": [
    "import numpy as np\n",
    "import math\n",
    "import mrcnn.model as modellib\n",
    "\n",
    "\n",
    "import ICRNConfigure\n",
    "from mrcnn.config import Config\n",
    "from Dataset_generator_Barchart import GenerateOneBarChart"
   ]
  },
  {
   "cell_type": "code",
   "execution_count": 3,
   "id": "e793a6ca",
   "metadata": {},
   "outputs": [
    {
     "name": "stdout",
     "output_type": "stream",
     "text": [
      "\n",
      "Configurations:\n",
      "BACKBONE                       resnet101\n",
      "BACKBONE_STRIDES               [4, 8, 16, 32, 64]\n",
      "BATCH_SIZE                     8\n",
      "BBOX_STD_DEV                   [0.1 0.1 0.2 0.2]\n",
      "COMPUTE_BACKBONE_SHAPE         None\n",
      "DETECTION_MAX_INSTANCES        100\n",
      "DETECTION_MIN_CONFIDENCE       0.7\n",
      "DETECTION_NMS_THRESHOLD        0.3\n",
      "FPN_CLASSIF_FC_LAYERS_SIZE     1024\n",
      "GPU_COUNT                      1\n",
      "GRADIENT_CLIP_NORM             5.0\n",
      "IMAGES_PER_GPU                 8\n",
      "IMAGE_CHANNEL_COUNT            3\n",
      "IMAGE_MAX_DIM                  128\n",
      "IMAGE_META_SIZE                14\n",
      "IMAGE_MIN_DIM                  128\n",
      "IMAGE_MIN_SCALE                0\n",
      "IMAGE_RESIZE_MODE              square\n",
      "IMAGE_SHAPE                    [128 128   3]\n",
      "LEARNING_MOMENTUM              0.9\n",
      "LEARNING_RATE                  0.001\n",
      "LOSS_WEIGHTS                   {'rpn_class_loss': 1.0, 'rpn_bbox_loss': 1.0, 'mrcnn_class_loss': 1.0, 'mrcnn_bbox_loss': 1.0, 'mrcnn_mask_loss': 1.0}\n",
      "MASK_POOL_SIZE                 14\n",
      "MASK_SHAPE                     [28, 28]\n",
      "MAX_GT_INSTANCES               100\n",
      "MEAN_PIXEL                     [123.7 116.8 103.9]\n",
      "MINI_MASK_SHAPE                (56, 56)\n",
      "NAME                           CQA\n",
      "NUM_CLASSES                    2\n",
      "POOL_SIZE                      7\n",
      "POST_NMS_ROIS_INFERENCE        1000\n",
      "POST_NMS_ROIS_TRAINING         2000\n",
      "PRE_NMS_LIMIT                  6000\n",
      "ROI_POSITIVE_RATIO             0.33\n",
      "RPN_ANCHOR_RATIOS              [0.5, 1, 2]\n",
      "RPN_ANCHOR_SCALES              (8, 16, 32, 64, 128)\n",
      "RPN_ANCHOR_STRIDE              1\n",
      "RPN_BBOX_STD_DEV               [0.1 0.1 0.2 0.2]\n",
      "RPN_NMS_THRESHOLD              0.7\n",
      "RPN_TRAIN_ANCHORS_PER_IMAGE    256\n",
      "STEPS_PER_EPOCH                100\n",
      "TOP_DOWN_PYRAMID_SIZE          256\n",
      "TRAIN_BN                       False\n",
      "TRAIN_ROIS_PER_IMAGE           32\n",
      "USE_MINI_MASK                  True\n",
      "USE_RPN_ROIS                   True\n",
      "VALIDATION_STEPS               5\n",
      "WEIGHT_DECAY                   0.0001\n",
      "\n",
      "\n"
     ]
    }
   ],
   "source": [
    "class ShapesConfig(Config):\n",
    "    \"\"\"Configuration for training on the toy shapes dataset.\n",
    "    Derives from the base Config class and overrides values specific\n",
    "    to the toy shapes dataset.\n",
    "    \"\"\"\n",
    "    # Give the configuration a recognizable name\n",
    "    NAME = \"CQA\"\n",
    "\n",
    "    # Train on 1 GPU and 8 images per GPU. We can put multiple images on each\n",
    "    # GPU because the images are small. Batch size is 8 (GPUs * images/GPU).\n",
    "    GPU_COUNT = 1\n",
    "    IMAGES_PER_GPU = 8\n",
    "\n",
    "    # Number of classes (including background)\n",
    "    NUM_CLASSES = 1 + 1  # background + 3 shapes\n",
    "\n",
    "    # Use small images for faster training. Set the limits of the small side\n",
    "    # the large side, and that determines the image shape.\n",
    "    IMAGE_MIN_DIM = 128\n",
    "    IMAGE_MAX_DIM = 128\n",
    "\n",
    "    # Use smaller anchors because our image and objects are small\n",
    "    RPN_ANCHOR_SCALES = (8, 16, 32, 64, 128)  # anchor side in pixels\n",
    "\n",
    "    # Reduce training ROIs per image because the images are small and have\n",
    "    # few objects. Aim to allow ROI sampling to pick 33% positive ROIs.\n",
    "    TRAIN_ROIS_PER_IMAGE = 32\n",
    "\n",
    "    # Use a small epoch since the data is simple\n",
    "    STEPS_PER_EPOCH = 100\n",
    "\n",
    "    # use small validation steps since the epoch is small\n",
    "    VALIDATION_STEPS = 5\n",
    "    \n",
    "maskrcnnconfig = ShapesConfig()\n",
    "maskrcnnconfig.display()"
   ]
  },
  {
   "cell_type": "code",
   "execution_count": 4,
   "id": "1a5684d5",
   "metadata": {},
   "outputs": [],
   "source": [
    "RCNNMODEL_DIR = os.path.join(ROOT_DIR, \"logs\")"
   ]
  },
  {
   "cell_type": "markdown",
   "id": "569b2026",
   "metadata": {},
   "source": [
    "# load Mask RCNN"
   ]
  },
  {
   "cell_type": "code",
   "execution_count": 5,
   "id": "dff920ae",
   "metadata": {},
   "outputs": [
    {
     "name": "stderr",
     "output_type": "stream",
     "text": [
      "2023-03-23 17:55:53.170166: I tensorflow/core/platform/cpu_feature_guard.cc:142] Your CPU supports instructions that this TensorFlow binary was not compiled to use: AVX2 AVX512F FMA\n",
      "2023-03-23 17:55:53.198805: I tensorflow/core/platform/profile_utils/cpu_utils.cc:94] CPU Frequency: 3000000000 Hz\n",
      "2023-03-23 17:55:53.201537: I tensorflow/compiler/xla/service/service.cc:168] XLA service 0x40f7990 executing computations on platform Host. Devices:\n",
      "2023-03-23 17:55:53.201573: I tensorflow/compiler/xla/service/service.cc:175]   StreamExecutor device (0): Host, Default Version\n"
     ]
    },
    {
     "name": "stdout",
     "output_type": "stream",
     "text": [
      "Loading weights from  /home/mahsa.geshvadi001/projects/PaperCodes/Comparison/Instance-based-RN/Codes_PureExperiment_default_5_times/Task1_ourNewTasks/logs/cqa20230313T1326/mask_rcnn_cqa_0060.h5\n",
      "Re-starting from epoch 60\n"
     ]
    }
   ],
   "source": [
    "class InferenceConfig(ShapesConfig):\n",
    "    GPU_COUNT = 1\n",
    "    IMAGES_PER_GPU = 1\n",
    "\n",
    "inference_config = InferenceConfig()\n",
    "\n",
    "# Recreate the model in inference mode\n",
    "maskrcnn_model = modellib.MaskRCNN(mode=\"inference\", \n",
    "                          config=inference_config,\n",
    "                          model_dir=RCNNMODEL_DIR)\n",
    "\n",
    "maskrcnn_model_path = maskrcnn_model.find_last()\n",
    "\n",
    "# Load trained weights\n",
    "print(\"Loading weights from \", maskrcnn_model_path)\n",
    "maskrcnn_model.load_weights(maskrcnn_model_path, by_name=True)"
   ]
  },
  {
   "cell_type": "code",
   "execution_count": null,
   "id": "917c0d50",
   "metadata": {},
   "outputs": [],
   "source": []
  },
  {
   "cell_type": "markdown",
   "id": "b4c1cd92",
   "metadata": {},
   "source": [
    "# Load Test Data"
   ]
  },
  {
   "cell_type": "code",
   "execution_count": 6,
   "id": "e3c52a49",
   "metadata": {},
   "outputs": [],
   "source": [
    "ICRN_config = ICRNConfigure.Config()\n"
   ]
  },
  {
   "cell_type": "code",
   "execution_count": 7,
   "id": "5fc95411",
   "metadata": {},
   "outputs": [],
   "source": [
    "def get_segmented_image(x1, y1, x2, y2, image):\n",
    "    \n",
    "    segment = image[x1: y1, x2 : y2]\n",
    "    new_image = np.ones(shape=(image.shape[0], image.shape[1], image.shape[2]))\n",
    "    new_image[x1: y1, x2 : y2] = segment\n",
    "    return new_image"
   ]
  },
  {
   "cell_type": "markdown",
   "id": "7162355d",
   "metadata": {},
   "source": [
    "Configurations"
   ]
  },
  {
   "cell_type": "code",
   "execution_count": 8,
   "id": "a9b947a4",
   "metadata": {},
   "outputs": [],
   "source": [
    "image_num = 10\n",
    "min_num_obj = 3\n",
    "max_num_obj = 6"
   ]
  },
  {
   "cell_type": "markdown",
   "id": "9c33c1e0",
   "metadata": {},
   "source": [
    "Generate Test dataset"
   ]
  },
  {
   "cell_type": "code",
   "execution_count": 9,
   "id": "40382339",
   "metadata": {},
   "outputs": [],
   "source": [
    "def get_segmented_image(x1, y1, x2, y2, image):\n",
    "    \n",
    "    segment = image[x1: y1, x2 : y2]\n",
    "    new_image = np.ones(shape=(image.shape[0], image.shape[1], image.shape[2]))\n",
    "    new_image[x1: y1, x2 : y2] = segment\n",
    "    return new_image"
   ]
  },
  {
   "cell_type": "code",
   "execution_count": 10,
   "id": "68c95b4d",
   "metadata": {},
   "outputs": [
    {
     "name": "stdout",
     "output_type": "stream",
     "text": [
      "Resetting the folder..... testDataset\n"
     ]
    }
   ],
   "source": [
    "ICRNConfigure.MakeDir('testDataset')\n",
    "ICRNConfigure.ClearDir('testDataset')\n"
   ]
  },
  {
   "cell_type": "code",
   "execution_count": 11,
   "id": "7aaaa614",
   "metadata": {},
   "outputs": [],
   "source": [
    "def saveImage(image, featureVector, i):\n",
    "\n",
    "    file_gt = open('testDataset/ground_truth.txt', 'w')\n",
    "    file_pair_gt = open('testDataset/pair_ground_truth.txt','w')\n",
    "    cv2.imwrite('testDataset/' + ICRN_config.chartName.format(i), image * 255)\n",
    "    \n",
    "    for t in range(len(featureVector)):\n",
    "        file_gt.write(\"%.6f\\t\" % (featureVector[t]))\n",
    "                \n",
    "    for t in range(ICRN_config.max_obj_num - len(featureVector)):\n",
    "        file_gt.write(\"0.00\\t\")\n",
    "        file_gt.write(\"\\n\")\n",
    "\n",
    "    for t in range(len(featureVector) - 1):\n",
    "            file_pair_gt.write(\"{} {} {}\\n\".format(ICRN_config.subChartName.format(i, t),\n",
    "                                                       ICRN_config.subChartName.format(i, t + 1),\n",
    "                                                       featureVector[t+1] / featureVector[t]))\n"
   ]
  },
  {
   "cell_type": "code",
   "execution_count": null,
   "id": "ce4026b1",
   "metadata": {},
   "outputs": [],
   "source": []
  },
  {
   "cell_type": "code",
   "execution_count": 12,
   "id": "2b8f116b",
   "metadata": {},
   "outputs": [],
   "source": [
    "_images = np.ones((ICRN_config.max_obj_num, image_num, ICRN_config.image_height, ICRN_config.image_width, 3), dtype='float32')\n",
    "_labels = []\n",
    "number_of_bars = []"
   ]
  },
  {
   "cell_type": "code",
   "execution_count": 13,
   "id": "23a26f3d",
   "metadata": {},
   "outputs": [
    {
     "name": "stdout",
     "output_type": "stream",
     "text": [
      "Processing 1 images\n",
      "image                    shape: (100, 100, 3)         min:    0.13668  max:    1.00000  float64\n",
      "molded_images            shape: (1, 128, 128, 3)      min: -123.47685  max: -102.90151  float64\n",
      "image_metas              shape: (1, 14)               min:    0.00000  max:  128.00000  float64\n",
      "anchors                  shape: (1, 4092, 4)          min:   -0.71267  max:    1.20874  float32\n",
      "Processing 1 images\n",
      "image                    shape: (100, 100, 3)         min:    0.01210  max:    1.00000  float64\n",
      "molded_images            shape: (1, 128, 128, 3)      min: -123.45480  max: -102.90092  float64\n",
      "image_metas              shape: (1, 14)               min:    0.00000  max:  128.00000  float64\n",
      "anchors                  shape: (1, 4092, 4)          min:   -0.71267  max:    1.20874  float32\n",
      "Processing 1 images\n",
      "image                    shape: (100, 100, 3)         min:    0.14734  max:    1.00000  float64\n",
      "molded_images            shape: (1, 128, 128, 3)      min: -123.55266  max: -102.90088  float64\n",
      "image_metas              shape: (1, 14)               min:    0.00000  max:  128.00000  float64\n",
      "anchors                  shape: (1, 4092, 4)          min:   -0.71267  max:    1.20874  float32\n",
      "Processing 1 images\n",
      "image                    shape: (100, 100, 3)         min:    0.21571  max:    1.00000  float64\n",
      "molded_images            shape: (1, 128, 128, 3)      min: -123.40320  max: -102.90106  float64\n",
      "image_metas              shape: (1, 14)               min:    0.00000  max:  128.00000  float64\n",
      "anchors                  shape: (1, 4092, 4)          min:   -0.71267  max:    1.20874  float32\n",
      "Processing 1 images\n",
      "image                    shape: (100, 100, 3)         min:    0.07385  max:    1.00000  float64\n",
      "molded_images            shape: (1, 128, 128, 3)      min: -123.41093  max: -102.90048  float64\n",
      "image_metas              shape: (1, 14)               min:    0.00000  max:  128.00000  float64\n",
      "anchors                  shape: (1, 4092, 4)          min:   -0.71267  max:    1.20874  float32\n",
      "Processing 1 images\n",
      "image                    shape: (100, 100, 3)         min:    0.02553  max:    1.00000  float64\n",
      "molded_images            shape: (1, 128, 128, 3)      min: -123.67218  max: -102.90063  float64\n",
      "image_metas              shape: (1, 14)               min:    0.00000  max:  128.00000  float64\n",
      "anchors                  shape: (1, 4092, 4)          min:   -0.71267  max:    1.20874  float32\n",
      "Processing 1 images\n",
      "image                    shape: (100, 100, 3)         min:    0.29674  max:    1.00000  float64\n",
      "molded_images            shape: (1, 128, 128, 3)      min: -123.40326  max: -102.90070  float64\n",
      "image_metas              shape: (1, 14)               min:    0.00000  max:  128.00000  float64\n",
      "anchors                  shape: (1, 4092, 4)          min:   -0.71267  max:    1.20874  float32\n",
      "Processing 1 images\n",
      "image                    shape: (100, 100, 3)         min:    0.00566  max:    1.00000  float64\n",
      "molded_images            shape: (1, 128, 128, 3)      min: -123.68793  max: -102.90096  float64\n",
      "image_metas              shape: (1, 14)               min:    0.00000  max:  128.00000  float64\n",
      "anchors                  shape: (1, 4092, 4)          min:   -0.71267  max:    1.20874  float32\n",
      "Processing 1 images\n",
      "image                    shape: (100, 100, 3)         min:    0.04583  max:    1.00000  float64\n",
      "molded_images            shape: (1, 128, 128, 3)      min: -123.63821  max: -102.90094  float64\n",
      "image_metas              shape: (1, 14)               min:    0.00000  max:  128.00000  float64\n",
      "anchors                  shape: (1, 4092, 4)          min:   -0.71267  max:    1.20874  float32\n",
      "Processing 1 images\n",
      "image                    shape: (100, 100, 3)         min:    0.02355  max:    1.00000  float64\n",
      "molded_images            shape: (1, 128, 128, 3)      min: -123.67473  max: -102.90088  float64\n",
      "image_metas              shape: (1, 14)               min:    0.00000  max:  128.00000  float64\n",
      "anchors                  shape: (1, 4092, 4)          min:   -0.71267  max:    1.20874  float32\n"
     ]
    }
   ],
   "source": [
    "for i in range(image_num):\n",
    "\n",
    "        image, _, featureVector = GenerateOneBarChart(\n",
    "                num=np.random.randint(min_num_obj, max_num_obj + 1))\n",
    "        \n",
    "        saveImage(image, featureVector, i)\n",
    "        featureVector = np.array(featureVector)\n",
    "\n",
    "        results = maskrcnn_model.detect([image], verbose=1)\n",
    "        r = results[0]\n",
    "        arr = r['rois']\n",
    "        segments_bbs = arr[arr[:,1].argsort()]\n",
    "\n",
    "        segments = []\n",
    "        for t in range(len(r['rois'])):\n",
    "            segments.append(get_segmented_image(segments_bbs[t][0],segments_bbs[t][2], \n",
    "                                                segments_bbs[t][1] , segments_bbs[t][3], image))\n",
    "            \n",
    "        subImages = [np.ones(shape=(ICRN_config.image_width,ICRN_config.image_width,3)) for i in range(ICRN_config.max_obj_num)]\n",
    "        for count in range(len(r['rois'])):\n",
    "\n",
    "            if count< 6:\n",
    "                subImages[count] = segments[count]\n",
    "            \n",
    "        for t in range(ICRN_config.max_obj_num):\n",
    "            _images[t][i] = subImages[t]\n",
    "\n",
    "        number_of_bars.append(len(r['rois']))\n",
    "        \n",
    "        label = np.zeros(ICRN_config.max_obj_num, dtype='float32')\n",
    "        label[:len(featureVector)] = featureVector\n",
    "        _labels.append(label)\n",
    "        \n",
    "_labels = np.array(_labels, dtype='float32')"
   ]
  },
  {
   "cell_type": "code",
   "execution_count": 14,
   "id": "5d49f6d6",
   "metadata": {},
   "outputs": [],
   "source": [
    "x_test = _images"
   ]
  },
  {
   "cell_type": "code",
   "execution_count": 15,
   "id": "27b2549d",
   "metadata": {},
   "outputs": [],
   "source": [
    "x_test = [x_test[i] for i in range(ICRN_config.max_obj_num)]\n",
    "x_test.append(np.ones(image_num))\n",
    "input_test = [x_test[i] for i in range(ICRN_config.max_obj_num)]\n",
    "input_test.append(np.ones(input_test[0].shape[0]))"
   ]
  },
  {
   "cell_type": "code",
   "execution_count": 16,
   "id": "f13f9637",
   "metadata": {},
   "outputs": [
    {
     "data": {
      "text/plain": [
       "7"
      ]
     },
     "execution_count": 16,
     "metadata": {},
     "output_type": "execute_result"
    }
   ],
   "source": [
    "len(input_test)"
   ]
  },
  {
   "cell_type": "code",
   "execution_count": 17,
   "id": "228a0692",
   "metadata": {},
   "outputs": [
    {
     "data": {
      "text/plain": [
       "(6, 10, 100, 100, 3)"
      ]
     },
     "execution_count": 17,
     "metadata": {},
     "output_type": "execute_result"
    }
   ],
   "source": [
    "_images.shape"
   ]
  },
  {
   "cell_type": "markdown",
   "id": "d87d359b",
   "metadata": {},
   "source": [
    "# Predict the ratio with ICRN "
   ]
  },
  {
   "cell_type": "code",
   "execution_count": 18,
   "id": "d9393c49",
   "metadata": {},
   "outputs": [],
   "source": [
    "\n",
    "import numpy as np\n",
    "import keras\n",
    "import keras.backend as K\n",
    "from keras.models import Sequential, Model\n",
    "from keras.layers import Dense, Dropout, Flatten,Input\n",
    "from keras.layers import Conv2D, MaxPooling2D\n",
    "import tensorflow as tf\n",
    "from keras.optimizers import SGD, Adam\n",
    "from non_local import non_local_block\n",
    "import matplotlib.pyplot as plt\n",
    "import cv2\n",
    "import os\n",
    "import time, argparse\n",
    "import pickle\n",
    "import sklearn\n",
    "from sklearn.metrics import mean_squared_error\n"
   ]
  },
  {
   "cell_type": "code",
   "execution_count": 19,
   "id": "6fbe9e2e",
   "metadata": {},
   "outputs": [],
   "source": [
    "\n",
    "def Level1_Module():\n",
    "    input = Input(shape=(ICRN_config.image_height, ICRN_config.image_width, 3))\n",
    "    x = Conv2D(32, (3, 3), activation='relu', padding='same')(input)\n",
    "    x = Conv2D(32, (3, 3), activation='relu', padding='same')(x)\n",
    "    x = MaxPooling2D(pool_size=(2, 2), strides=(2, 2))(x)\n",
    "    x = Conv2D(64, (3, 3), activation='relu', padding='same')(x)\n",
    "    x = Conv2D(64, (3, 3), activation='relu', padding='same')(x)\n",
    "    x = MaxPooling2D(pool_size=(2, 2), strides=(2, 2))(x)\n",
    "    x = non_local_block(x)   # non local block\n",
    "    x = Conv2D(64, (3, 3), activation='relu', padding='same')(x)\n",
    "    x = Conv2D(64, (3, 3), activation='relu', padding='same')(x)\n",
    "    x = Conv2D(64, (3, 3), activation='relu', padding='same')(x)\n",
    "    x = MaxPooling2D(pool_size=(2, 2), strides=(2, 2))(x)\n",
    "    x = non_local_block(x)   # non local block\n",
    "    return Model(inputs=input, outputs=x)\n",
    "\n",
    "# Level2 module is to compute the ratio of a pair.\n",
    "# Level2 has one NON-LOCAL block.\n",
    "def Level2_Module(w,h,c):\n",
    "    print(\"Level2:\", w,h,c)\n",
    "\n",
    "    inputA = Input(shape=(w, h, c))\n",
    "    inputB = Input(shape=(w, h, c))\n",
    "\n",
    "    combined = keras.layers.concatenate([inputA, inputB])   # concatenate them.\n",
    "    z = Conv2D(64, (3, 3), activation='relu',padding='same')(combined)\n",
    "    z = Conv2D(64, (3, 3), activation='relu', padding='same')(z)\n",
    "    z = non_local_block(z)   # non local block\n",
    "    #\n",
    "    z = Flatten()(z)\n",
    "    z = Dense(256, activation=\"relu\")(z)\n",
    "    z = Dropout(0.5)(z)\n",
    "    z = Dense(1, activation=\"linear\")(z)  # output the ratio of this pair.\n",
    "\n",
    "    return Model(inputs=[inputA, inputB], outputs=z)\n",
    "\n",
    "\n",
    "\n",
    "# IRN_m is final network to estimate the ratio vectors from multiple input instances.\n",
    "def Build_IRN_m_Network():\n",
    "    # input layers.\n",
    "    input_layers = []\n",
    "    # the first 'obj_num' inputs are corresponding to the input sub-charts.\n",
    "    for i in range(ICRN_config.max_obj_num):\n",
    "        input = Input(shape=(ICRN_config.image_height, ICRN_config.image_width, 3), name=\"input_{}\".format(i))\n",
    "        input_layers.append(input)\n",
    "\n",
    "    # The last input layer is used for representing R1=(o1/o1)=1.0 which is just a constant.\n",
    "    # Here, I would use an extra input layer which is 1-dim and always equal to 1.0 rather than directly using a contant.\n",
    "    # It makes same effect and can avoid some strange compile errors. (I only use TensorFlow before, not way familiar to Keras.)\n",
    "    R1_one_input = Input(shape=(1,),name=\"input_constant_scalar1\",dtype='float32')   # always equal to 1.0.\n",
    "    input_layers.append(R1_one_input)\n",
    "\n",
    "    # First extract individual features.\n",
    "    individual_features = []\n",
    "    level1 = Level1_Module()  # build a level1 module\n",
    "    for i in range(ICRN_config.max_obj_num):\n",
    "        x = level1(input_layers[i])\n",
    "        individual_features.append(x)\n",
    "\n",
    "    # Use a Level2 module to predict pairwise ratios.\n",
    "    level2 = Level2_Module(w=int(individual_features[0].shape[1]),\n",
    "                           h=int(individual_features[0].shape[2]),\n",
    "                           c=int(individual_features[0].shape[3]))\n",
    "\n",
    "    ratio_p_layers = [R1_one_input]   # pairwise ratio vector. put in' R1=(o1/o1)=1.0 '.\n",
    "    for i in range(ICRN_config.max_obj_num-1): # compute the ratio of each neighbor pair.\n",
    "        x = level2(inputs = [individual_features[i], individual_features[i+1]])\n",
    "        ratio_p_layers.append(x)\n",
    "\n",
    "    print(\"ratio_p_layers\", len(ratio_p_layers), ratio_p_layers[-1].shape)\n",
    "\n",
    "    # Compute the ratios relative to the first object by using MULTIPLY() operation.\n",
    "    ratio_layers = [R1_one_input]  # put in R1=1.0.\n",
    "    i = 1\n",
    "    while i<len(ratio_p_layers):\n",
    "        x = keras.layers.Multiply()(ratio_p_layers[:i+1])   # R1*R2*...Ri\n",
    "        i+=1\n",
    "        ratio_layers.append(x)\n",
    "\n",
    "    # divide the maxinum of 'ratio_layers' to get the final results.\n",
    "    max = keras.layers.maximum(ratio_layers)\n",
    "    z = keras.layers.concatenate(ratio_layers)\n",
    "    z = keras.layers.Lambda(lambda x: x[0]/x[1])([z, max])\n",
    "\n",
    "    print(\"output layer: \", z.shape)\n",
    "\n",
    "    return Model(inputs=input_layers, outputs=z)"
   ]
  },
  {
   "cell_type": "code",
   "execution_count": 20,
   "id": "04edd943",
   "metadata": {},
   "outputs": [
    {
     "name": "stdout",
     "output_type": "stream",
     "text": [
      "Level2: 12 12 64\n",
      "ratio_p_layers 6 (None, 1)\n",
      "output layer:  (None, 6)\n"
     ]
    }
   ],
   "source": [
    "model = Build_IRN_m_Network()\n",
    "m_optimizer = Adam(0.0001)\n",
    "model.compile(loss='mse', optimizer=m_optimizer)"
   ]
  },
  {
   "cell_type": "code",
   "execution_count": 21,
   "id": "f4ff8cfe",
   "metadata": {},
   "outputs": [],
   "source": [
    "model.load_weights('model_IcRN_onTrain_0.00010191364316851832.h5')"
   ]
  },
  {
   "cell_type": "code",
   "execution_count": 22,
   "id": "3cd3e24f",
   "metadata": {},
   "outputs": [],
   "source": [
    "predict_Y = model.predict(x=input_test, batch_size=1)\n"
   ]
  },
  {
   "cell_type": "code",
   "execution_count": 23,
   "id": "e8a00f27",
   "metadata": {},
   "outputs": [
    {
     "data": {
      "text/plain": [
       "array([[ 2.00756177e-01,  5.72678626e-01,  1.00000000e+00,\n",
       "         3.95887733e-01,  6.63629532e-01,  5.72498202e-01],\n",
       "       [ 5.69108069e-01,  4.53402430e-01,  1.00000000e+00,\n",
       "         6.99940085e-01,  9.54283103e-02,  1.79686968e-03],\n",
       "       [ 4.74941343e-01,  8.60786915e-01,  7.20823467e-01,\n",
       "         1.00000000e+00,  1.32679939e-03,  1.95778102e-05],\n",
       "       [ 9.20084357e-01,  8.09368253e-01,  1.88650101e-01,\n",
       "         1.00000000e+00,  7.32624531e-03,  1.08103624e-04],\n",
       "       [ 5.78354776e-01,  4.03735042e-01,  1.00000000e+00,\n",
       "        -5.09619713e-04, -7.51977814e-06, -1.10959341e-07],\n",
       "       [ 1.00000000e+00,  7.45713115e-01,  6.84275389e-01,\n",
       "         6.44026995e-01,  1.39076486e-02,  2.05216624e-04],\n",
       "       [ 1.00000000e+00,  6.81868255e-01,  5.96657395e-01,\n",
       "         1.16994254e-01,  1.72632816e-03,  2.54731222e-05],\n",
       "       [ 1.00000000e+00,  8.24277759e-01,  5.09556651e-01,\n",
       "         4.84728932e-01,  2.88163987e-03,  4.25205144e-05],\n",
       "       [ 4.41075951e-01,  6.80286229e-01,  1.00000000e+00,\n",
       "         8.61068249e-01,  6.59207582e-01, -2.87521910e-03],\n",
       "       [ 9.87419903e-01,  8.17744434e-01,  1.99832439e-01,\n",
       "         1.00000000e+00,  1.51783228e-03,  2.23966272e-05]], dtype=float32)"
      ]
     },
     "execution_count": 23,
     "metadata": {},
     "output_type": "execute_result"
    }
   ],
   "source": [
    "predict_Y"
   ]
  },
  {
   "cell_type": "code",
   "execution_count": 24,
   "id": "8ba03fce",
   "metadata": {},
   "outputs": [],
   "source": [
    "for n in range(image_num):\n",
    "\n",
    "        predict_Y[n][number_of_bars[n]: 6] = 0"
   ]
  },
  {
   "cell_type": "code",
   "execution_count": null,
   "id": "320fbbb8",
   "metadata": {},
   "outputs": [],
   "source": []
  },
  {
   "cell_type": "code",
   "execution_count": 25,
   "id": "434c92a6",
   "metadata": {},
   "outputs": [],
   "source": [
    "y = _labels"
   ]
  },
  {
   "cell_type": "code",
   "execution_count": 26,
   "id": "8deb4645",
   "metadata": {},
   "outputs": [],
   "source": [
    "MLAE = np.log2(sklearn.metrics.mean_absolute_error( predict_Y * 100, y * 100) + .125)"
   ]
  },
  {
   "cell_type": "code",
   "execution_count": 26,
   "id": "bf1910e8",
   "metadata": {},
   "outputs": [
    {
     "data": {
      "text/plain": [
       "2.0454688919134227"
      ]
     },
     "execution_count": 26,
     "metadata": {},
     "output_type": "execute_result"
    }
   ],
   "source": [
    "MLAE"
   ]
  },
  {
   "cell_type": "code",
   "execution_count": null,
   "id": "2db528d1",
   "metadata": {},
   "outputs": [],
   "source": []
  },
  {
   "cell_type": "code",
   "execution_count": null,
   "id": "3b237d3b",
   "metadata": {},
   "outputs": [],
   "source": []
  },
  {
   "cell_type": "code",
   "execution_count": null,
   "id": "9d36d444",
   "metadata": {},
   "outputs": [],
   "source": []
  }
 ],
 "metadata": {
  "kernelspec": {
   "display_name": "Python 3 (ipykernel)",
   "language": "python",
   "name": "python3"
  },
  "language_info": {
   "codemirror_mode": {
    "name": "ipython",
    "version": 3
   },
   "file_extension": ".py",
   "mimetype": "text/x-python",
   "name": "python",
   "nbconvert_exporter": "python",
   "pygments_lexer": "ipython3",
   "version": "3.7.16"
  }
 },
 "nbformat": 4,
 "nbformat_minor": 5
}
