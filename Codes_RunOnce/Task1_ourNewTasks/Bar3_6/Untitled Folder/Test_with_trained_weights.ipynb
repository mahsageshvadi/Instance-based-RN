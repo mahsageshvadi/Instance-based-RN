{
 "cells": [
  {
   "cell_type": "code",
   "execution_count": null,
   "id": "0d8a2bdc",
   "metadata": {},
   "outputs": [],
   "source": [
    "from Configure import Config, MakeDir\n",
    "import numpy as np\n",
    "import keras\n",
    "import keras.backend as K\n",
    "import numpy as np\n",
    "from keras.models import Sequential, Model\n",
    "from keras.layers import Dense, Dropout, Flatten,Input\n",
    "from keras.layers import Conv2D, MaxPooling2D\n",
    "import tensorflow as tf\n",
    "from keras.optimizers import SGD, Adam\n",
    "from utils.non_local import non_local_block\n",
    "from Dataset_generator_BackgroundColor import GenerateDatasetIRNm\n",
    "import sklearn\n",
    "from sklearn.metrics import mean_squared_error\n",
    "\n",
    "lr = 0.0001\n",
    "m_optimizer = Adam(lr)\n",
    "\n",
    "config = Config()"
   ]
  }
 ],
 "metadata": {
  "kernelspec": {
   "display_name": "Python 3",
   "language": "python",
   "name": "python3"
  },
  "language_info": {
   "codemirror_mode": {
    "name": "ipython",
    "version": 3
   },
   "file_extension": ".py",
   "mimetype": "text/x-python",
   "name": "python",
   "nbconvert_exporter": "python",
   "pygments_lexer": "ipython3",
   "version": "3.6.10"
  }
 },
 "nbformat": 4,
 "nbformat_minor": 5
}
